{
  "cells": [
    {
      "cell_type": "code",
      "execution_count": null,
      "metadata": {
        "colab": {
          "base_uri": "https://localhost:8080/"
        },
        "id": "1NkJ_RHmzHY7",
        "outputId": "bb78d7b5-1db3-4f1b-9396-80377310affa"
      },
      "outputs": [
        {
          "name": "stdout",
          "output_type": "stream",
          "text": [
            "Mounted at /content/drive\n"
          ]
        }
      ],
      "source": [
        "from google.colab import drive\n",
        "drive.mount('/content/drive')"
      ]
    },
    {
      "cell_type": "code",
      "execution_count": null,
      "metadata": {
        "id": "9PoRGy2o2koE"
      },
      "outputs": [],
      "source": [
        "import os\n",
        "os.chdir(\"/content/drive/MyDrive/Dataset/images.cv_jzk6llhf18tm3k0kyttxz/data\")"
      ]
    },
    {
      "cell_type": "code",
      "execution_count": null,
      "metadata": {
        "colab": {
          "base_uri": "https://localhost:8080/"
        },
        "id": "b83MsJiq41yp",
        "outputId": "c311932a-9e0a-4e09-856a-b4f125847f6c"
      },
      "outputs": [
        {
          "name": "stdout",
          "output_type": "stream",
          "text": [
            "/content/drive/MyDrive/Dataset/images.cv_jzk6llhf18tm3k0kyttxz/data\n"
          ]
        }
      ],
      "source": [
        "!pwd"
      ]
    },
    {
      "cell_type": "code",
      "execution_count": null,
      "metadata": {
        "colab": {
          "base_uri": "https://localhost:8080/"
        },
        "id": "BW_bpS2L46xx",
        "outputId": "0f80c4d7-53bf-4ec8-9322-cda4cedfab36"
      },
      "outputs": [
        {
          "name": "stdout",
          "output_type": "stream",
          "text": [
            "test  train  val\n"
          ]
        }
      ],
      "source": [
        "!ls"
      ]
    },
    {
      "cell_type": "code",
      "execution_count": null,
      "metadata": {
        "id": "pxi1BL7h6w3g"
      },
      "outputs": [],
      "source": [
        "data_dir = \"/content/drive/MyDrive/Dataset/images.cv_jzk6llhf18tm3k0kyttxz/data\"\n",
        "train_dir = os.path.join(data_dir, \"train\")\n",
        "val_dir = os.path.join(data_dir, \"val\")\n",
        "test_dir = os.path.join(data_dir, \"test\")"
      ]
    },
    {
      "cell_type": "code",
      "execution_count": null,
      "metadata": {
        "id": "GohyNUxh6x86"
      },
      "outputs": [],
      "source": [
        "from tensorflow.keras.preprocessing.image import ImageDataGenerator\n",
        "\n",
        "IMG_SIZE = (224, 224)\n",
        "BATCH_SIZE = 32"
      ]
    },
    {
      "cell_type": "code",
      "execution_count": null,
      "metadata": {
        "id": "QylQbqCn7ckl"
      },
      "outputs": [],
      "source": [
        "datagen_train = ImageDataGenerator(\n",
        "    rescale=1./255,\n",
        "    rotation_range=20,\n",
        "    zoom_range=0.2,\n",
        "    horizontal_flip=True,\n",
        "    fill_mode='nearest'\n",
        ")"
      ]
    },
    {
      "cell_type": "code",
      "execution_count": null,
      "metadata": {
        "id": "5giTOBWw7eUJ"
      },
      "outputs": [],
      "source": [
        "datagen_val = ImageDataGenerator(rescale=1./255)\n",
        "datagen_test = ImageDataGenerator(rescale=1./255)"
      ]
    },
    {
      "cell_type": "code",
      "execution_count": null,
      "metadata": {
        "colab": {
          "base_uri": "https://localhost:8080/"
        },
        "id": "SBoczuFg7h0K",
        "outputId": "adabdb05-9e72-4825-872e-5ca42d2d28b0"
      },
      "outputs": [
        {
          "name": "stdout",
          "output_type": "stream",
          "text": [
            "Found 6225 images belonging to 11 classes.\n"
          ]
        }
      ],
      "source": [
        "train_data = datagen_train.flow_from_directory(\n",
        "    train_dir,\n",
        "    target_size=IMG_SIZE,\n",
        "    batch_size=BATCH_SIZE,\n",
        "    class_mode='categorical'\n",
        ")"
      ]
    },
    {
      "cell_type": "code",
      "execution_count": null,
      "metadata": {
        "colab": {
          "base_uri": "https://localhost:8080/"
        },
        "id": "Qdw2zvrY8DwS",
        "outputId": "f87f0caa-dbda-4625-a4f6-c65c9b8cc818"
      },
      "outputs": [
        {
          "name": "stdout",
          "output_type": "stream",
          "text": [
            "Found 1092 images belonging to 11 classes.\n"
          ]
        }
      ],
      "source": [
        "val_data = datagen_val.flow_from_directory(\n",
        "    val_dir,\n",
        "    target_size=IMG_SIZE,\n",
        "    batch_size=BATCH_SIZE,\n",
        "    class_mode='categorical'\n",
        ")"
      ]
    },
    {
      "cell_type": "code",
      "execution_count": null,
      "metadata": {
        "colab": {
          "base_uri": "https://localhost:8080/"
        },
        "id": "V_RXgxP88Jc7",
        "outputId": "f3e82721-ac4c-415b-e7c6-45b6b504d3d9"
      },
      "outputs": [
        {
          "name": "stdout",
          "output_type": "stream",
          "text": [
            "Found 3187 images belonging to 11 classes.\n"
          ]
        }
      ],
      "source": [
        "test_data = datagen_test.flow_from_directory(\n",
        "    test_dir,\n",
        "    target_size=IMG_SIZE,\n",
        "    batch_size=BATCH_SIZE,\n",
        "    class_mode='categorical',\n",
        "    shuffle=False\n",
        ")"
      ]
    },
    {
      "cell_type": "code",
      "execution_count": null,
      "metadata": {
        "colab": {
          "base_uri": "https://localhost:8080/"
        },
        "id": "laqxsrLm8Lzn",
        "outputId": "31679204-744c-4edd-cd27-d3489dc72cf6"
      },
      "outputs": [
        {
          "name": "stdout",
          "output_type": "stream",
          "text": [
            "✅ Classes: {'animal fish': 0, 'animal fish bass': 1, 'fish sea_food black_sea_sprat': 2, 'fish sea_food gilt_head_bream': 3, 'fish sea_food hourse_mackerel': 4, 'fish sea_food red_mullet': 5, 'fish sea_food red_sea_bream': 6, 'fish sea_food sea_bass': 7, 'fish sea_food shrimp': 8, 'fish sea_food striped_red_mullet': 9, 'fish sea_food trout': 10}\n"
          ]
        }
      ],
      "source": [
        "print(\"✅ Classes:\", train_data.class_indices)"
      ]
    },
    {
      "cell_type": "code",
      "execution_count": null,
      "metadata": {
        "colab": {
          "base_uri": "https://localhost:8080/",
          "height": 472
        },
        "id": "wN0SD9ZJ84VI",
        "outputId": "b89f1015-3e98-45c4-e2d7-efdefcd1f6a2"
      },
      "outputs": [
        {
          "name": "stderr",
          "output_type": "stream",
          "text": [
            "/usr/local/lib/python3.12/dist-packages/keras/src/layers/convolutional/base_conv.py:113: UserWarning: Do not pass an `input_shape`/`input_dim` argument to a layer. When using Sequential models, prefer using an `Input(shape)` object as the first layer in the model instead.\n",
            "  super().__init__(activity_regularizer=activity_regularizer, **kwargs)\n"
          ]
        },
        {
          "data": {
            "text/html": [
              "<pre style=\"white-space:pre;overflow-x:auto;line-height:normal;font-family:Menlo,'DejaVu Sans Mono',consolas,'Courier New',monospace\"><span style=\"font-weight: bold\">Model: \"sequential\"</span>\n",
              "</pre>\n"
            ],
            "text/plain": [
              "\u001b[1mModel: \"sequential\"\u001b[0m\n"
            ]
          },
          "metadata": {},
          "output_type": "display_data"
        },
        {
          "data": {
            "text/html": [
              "<pre style=\"white-space:pre;overflow-x:auto;line-height:normal;font-family:Menlo,'DejaVu Sans Mono',consolas,'Courier New',monospace\">┏━━━━━━━━━━━━━━━━━━━━━━━━━━━━━━━━━┳━━━━━━━━━━━━━━━━━━━━━━━━┳━━━━━━━━━━━━━━━┓\n",
              "┃<span style=\"font-weight: bold\"> Layer (type)                    </span>┃<span style=\"font-weight: bold\"> Output Shape           </span>┃<span style=\"font-weight: bold\">       Param # </span>┃\n",
              "┡━━━━━━━━━━━━━━━━━━━━━━━━━━━━━━━━━╇━━━━━━━━━━━━━━━━━━━━━━━━╇━━━━━━━━━━━━━━━┩\n",
              "│ conv2d (<span style=\"color: #0087ff; text-decoration-color: #0087ff\">Conv2D</span>)                 │ (<span style=\"color: #00d7ff; text-decoration-color: #00d7ff\">None</span>, <span style=\"color: #00af00; text-decoration-color: #00af00\">222</span>, <span style=\"color: #00af00; text-decoration-color: #00af00\">222</span>, <span style=\"color: #00af00; text-decoration-color: #00af00\">32</span>)   │           <span style=\"color: #00af00; text-decoration-color: #00af00\">896</span> │\n",
              "├─────────────────────────────────┼────────────────────────┼───────────────┤\n",
              "│ max_pooling2d (<span style=\"color: #0087ff; text-decoration-color: #0087ff\">MaxPooling2D</span>)    │ (<span style=\"color: #00d7ff; text-decoration-color: #00d7ff\">None</span>, <span style=\"color: #00af00; text-decoration-color: #00af00\">111</span>, <span style=\"color: #00af00; text-decoration-color: #00af00\">111</span>, <span style=\"color: #00af00; text-decoration-color: #00af00\">32</span>)   │             <span style=\"color: #00af00; text-decoration-color: #00af00\">0</span> │\n",
              "├─────────────────────────────────┼────────────────────────┼───────────────┤\n",
              "│ conv2d_1 (<span style=\"color: #0087ff; text-decoration-color: #0087ff\">Conv2D</span>)               │ (<span style=\"color: #00d7ff; text-decoration-color: #00d7ff\">None</span>, <span style=\"color: #00af00; text-decoration-color: #00af00\">109</span>, <span style=\"color: #00af00; text-decoration-color: #00af00\">109</span>, <span style=\"color: #00af00; text-decoration-color: #00af00\">64</span>)   │        <span style=\"color: #00af00; text-decoration-color: #00af00\">18,496</span> │\n",
              "├─────────────────────────────────┼────────────────────────┼───────────────┤\n",
              "│ max_pooling2d_1 (<span style=\"color: #0087ff; text-decoration-color: #0087ff\">MaxPooling2D</span>)  │ (<span style=\"color: #00d7ff; text-decoration-color: #00d7ff\">None</span>, <span style=\"color: #00af00; text-decoration-color: #00af00\">54</span>, <span style=\"color: #00af00; text-decoration-color: #00af00\">54</span>, <span style=\"color: #00af00; text-decoration-color: #00af00\">64</span>)     │             <span style=\"color: #00af00; text-decoration-color: #00af00\">0</span> │\n",
              "├─────────────────────────────────┼────────────────────────┼───────────────┤\n",
              "│ conv2d_2 (<span style=\"color: #0087ff; text-decoration-color: #0087ff\">Conv2D</span>)               │ (<span style=\"color: #00d7ff; text-decoration-color: #00d7ff\">None</span>, <span style=\"color: #00af00; text-decoration-color: #00af00\">52</span>, <span style=\"color: #00af00; text-decoration-color: #00af00\">52</span>, <span style=\"color: #00af00; text-decoration-color: #00af00\">128</span>)    │        <span style=\"color: #00af00; text-decoration-color: #00af00\">73,856</span> │\n",
              "├─────────────────────────────────┼────────────────────────┼───────────────┤\n",
              "│ max_pooling2d_2 (<span style=\"color: #0087ff; text-decoration-color: #0087ff\">MaxPooling2D</span>)  │ (<span style=\"color: #00d7ff; text-decoration-color: #00d7ff\">None</span>, <span style=\"color: #00af00; text-decoration-color: #00af00\">26</span>, <span style=\"color: #00af00; text-decoration-color: #00af00\">26</span>, <span style=\"color: #00af00; text-decoration-color: #00af00\">128</span>)    │             <span style=\"color: #00af00; text-decoration-color: #00af00\">0</span> │\n",
              "├─────────────────────────────────┼────────────────────────┼───────────────┤\n",
              "│ flatten (<span style=\"color: #0087ff; text-decoration-color: #0087ff\">Flatten</span>)               │ (<span style=\"color: #00d7ff; text-decoration-color: #00d7ff\">None</span>, <span style=\"color: #00af00; text-decoration-color: #00af00\">86528</span>)          │             <span style=\"color: #00af00; text-decoration-color: #00af00\">0</span> │\n",
              "├─────────────────────────────────┼────────────────────────┼───────────────┤\n",
              "│ dense (<span style=\"color: #0087ff; text-decoration-color: #0087ff\">Dense</span>)                   │ (<span style=\"color: #00d7ff; text-decoration-color: #00d7ff\">None</span>, <span style=\"color: #00af00; text-decoration-color: #00af00\">256</span>)            │    <span style=\"color: #00af00; text-decoration-color: #00af00\">22,151,424</span> │\n",
              "├─────────────────────────────────┼────────────────────────┼───────────────┤\n",
              "│ dense_1 (<span style=\"color: #0087ff; text-decoration-color: #0087ff\">Dense</span>)                 │ (<span style=\"color: #00d7ff; text-decoration-color: #00d7ff\">None</span>, <span style=\"color: #00af00; text-decoration-color: #00af00\">11</span>)             │         <span style=\"color: #00af00; text-decoration-color: #00af00\">2,827</span> │\n",
              "└─────────────────────────────────┴────────────────────────┴───────────────┘\n",
              "</pre>\n"
            ],
            "text/plain": [
              "┏━━━━━━━━━━━━━━━━━━━━━━━━━━━━━━━━━┳━━━━━━━━━━━━━━━━━━━━━━━━┳━━━━━━━━━━━━━━━┓\n",
              "┃\u001b[1m \u001b[0m\u001b[1mLayer (type)                   \u001b[0m\u001b[1m \u001b[0m┃\u001b[1m \u001b[0m\u001b[1mOutput Shape          \u001b[0m\u001b[1m \u001b[0m┃\u001b[1m \u001b[0m\u001b[1m      Param #\u001b[0m\u001b[1m \u001b[0m┃\n",
              "┡━━━━━━━━━━━━━━━━━━━━━━━━━━━━━━━━━╇━━━━━━━━━━━━━━━━━━━━━━━━╇━━━━━━━━━━━━━━━┩\n",
              "│ conv2d (\u001b[38;5;33mConv2D\u001b[0m)                 │ (\u001b[38;5;45mNone\u001b[0m, \u001b[38;5;34m222\u001b[0m, \u001b[38;5;34m222\u001b[0m, \u001b[38;5;34m32\u001b[0m)   │           \u001b[38;5;34m896\u001b[0m │\n",
              "├─────────────────────────────────┼────────────────────────┼───────────────┤\n",
              "│ max_pooling2d (\u001b[38;5;33mMaxPooling2D\u001b[0m)    │ (\u001b[38;5;45mNone\u001b[0m, \u001b[38;5;34m111\u001b[0m, \u001b[38;5;34m111\u001b[0m, \u001b[38;5;34m32\u001b[0m)   │             \u001b[38;5;34m0\u001b[0m │\n",
              "├─────────────────────────────────┼────────────────────────┼───────────────┤\n",
              "│ conv2d_1 (\u001b[38;5;33mConv2D\u001b[0m)               │ (\u001b[38;5;45mNone\u001b[0m, \u001b[38;5;34m109\u001b[0m, \u001b[38;5;34m109\u001b[0m, \u001b[38;5;34m64\u001b[0m)   │        \u001b[38;5;34m18,496\u001b[0m │\n",
              "├─────────────────────────────────┼────────────────────────┼───────────────┤\n",
              "│ max_pooling2d_1 (\u001b[38;5;33mMaxPooling2D\u001b[0m)  │ (\u001b[38;5;45mNone\u001b[0m, \u001b[38;5;34m54\u001b[0m, \u001b[38;5;34m54\u001b[0m, \u001b[38;5;34m64\u001b[0m)     │             \u001b[38;5;34m0\u001b[0m │\n",
              "├─────────────────────────────────┼────────────────────────┼───────────────┤\n",
              "│ conv2d_2 (\u001b[38;5;33mConv2D\u001b[0m)               │ (\u001b[38;5;45mNone\u001b[0m, \u001b[38;5;34m52\u001b[0m, \u001b[38;5;34m52\u001b[0m, \u001b[38;5;34m128\u001b[0m)    │        \u001b[38;5;34m73,856\u001b[0m │\n",
              "├─────────────────────────────────┼────────────────────────┼───────────────┤\n",
              "│ max_pooling2d_2 (\u001b[38;5;33mMaxPooling2D\u001b[0m)  │ (\u001b[38;5;45mNone\u001b[0m, \u001b[38;5;34m26\u001b[0m, \u001b[38;5;34m26\u001b[0m, \u001b[38;5;34m128\u001b[0m)    │             \u001b[38;5;34m0\u001b[0m │\n",
              "├─────────────────────────────────┼────────────────────────┼───────────────┤\n",
              "│ flatten (\u001b[38;5;33mFlatten\u001b[0m)               │ (\u001b[38;5;45mNone\u001b[0m, \u001b[38;5;34m86528\u001b[0m)          │             \u001b[38;5;34m0\u001b[0m │\n",
              "├─────────────────────────────────┼────────────────────────┼───────────────┤\n",
              "│ dense (\u001b[38;5;33mDense\u001b[0m)                   │ (\u001b[38;5;45mNone\u001b[0m, \u001b[38;5;34m256\u001b[0m)            │    \u001b[38;5;34m22,151,424\u001b[0m │\n",
              "├─────────────────────────────────┼────────────────────────┼───────────────┤\n",
              "│ dense_1 (\u001b[38;5;33mDense\u001b[0m)                 │ (\u001b[38;5;45mNone\u001b[0m, \u001b[38;5;34m11\u001b[0m)             │         \u001b[38;5;34m2,827\u001b[0m │\n",
              "└─────────────────────────────────┴────────────────────────┴───────────────┘\n"
            ]
          },
          "metadata": {},
          "output_type": "display_data"
        },
        {
          "data": {
            "text/html": [
              "<pre style=\"white-space:pre;overflow-x:auto;line-height:normal;font-family:Menlo,'DejaVu Sans Mono',consolas,'Courier New',monospace\"><span style=\"font-weight: bold\"> Total params: </span><span style=\"color: #00af00; text-decoration-color: #00af00\">22,247,499</span> (84.87 MB)\n",
              "</pre>\n"
            ],
            "text/plain": [
              "\u001b[1m Total params: \u001b[0m\u001b[38;5;34m22,247,499\u001b[0m (84.87 MB)\n"
            ]
          },
          "metadata": {},
          "output_type": "display_data"
        },
        {
          "data": {
            "text/html": [
              "<pre style=\"white-space:pre;overflow-x:auto;line-height:normal;font-family:Menlo,'DejaVu Sans Mono',consolas,'Courier New',monospace\"><span style=\"font-weight: bold\"> Trainable params: </span><span style=\"color: #00af00; text-decoration-color: #00af00\">22,247,499</span> (84.87 MB)\n",
              "</pre>\n"
            ],
            "text/plain": [
              "\u001b[1m Trainable params: \u001b[0m\u001b[38;5;34m22,247,499\u001b[0m (84.87 MB)\n"
            ]
          },
          "metadata": {},
          "output_type": "display_data"
        },
        {
          "data": {
            "text/html": [
              "<pre style=\"white-space:pre;overflow-x:auto;line-height:normal;font-family:Menlo,'DejaVu Sans Mono',consolas,'Courier New',monospace\"><span style=\"font-weight: bold\"> Non-trainable params: </span><span style=\"color: #00af00; text-decoration-color: #00af00\">0</span> (0.00 B)\n",
              "</pre>\n"
            ],
            "text/plain": [
              "\u001b[1m Non-trainable params: \u001b[0m\u001b[38;5;34m0\u001b[0m (0.00 B)\n"
            ]
          },
          "metadata": {},
          "output_type": "display_data"
        }
      ],
      "source": [
        "from tensorflow.keras.models import Sequential\n",
        "from tensorflow.keras.layers import Conv2D, MaxPooling2D, Flatten, Dense\n",
        "\n",
        "cnn_model = Sequential([\n",
        "    Conv2D(32, (3,3), activation='relu', input_shape=(224,224,3)),\n",
        "    MaxPooling2D(2,2),\n",
        "    Conv2D(64, (3,3), activation='relu'),\n",
        "    MaxPooling2D(2,2),\n",
        "    Conv2D(128, (3,3), activation='relu'),\n",
        "    MaxPooling2D(2,2),\n",
        "    Flatten(),\n",
        "    Dense(256, activation='relu'),\n",
        "    Dense(len(train_data.class_indices), activation='softmax')\n",
        "])\n",
        "\n",
        "cnn_model.compile(optimizer='adam', loss='categorical_crossentropy', metrics=['accuracy'])\n",
        "cnn_model.summary()"
      ]
    },
    {
      "cell_type": "code",
      "execution_count": null,
      "metadata": {
        "colab": {
          "base_uri": "https://localhost:8080/"
        },
        "id": "nRAr3hk_aE0V",
        "outputId": "c1d78a66-a294-41f7-c396-2a35490522ad"
      },
      "outputs": [
        {
          "name": "stderr",
          "output_type": "stream",
          "text": [
            "/usr/local/lib/python3.12/dist-packages/keras/src/trainers/data_adapters/py_dataset_adapter.py:121: UserWarning: Your `PyDataset` class should call `super().__init__(**kwargs)` in its constructor. `**kwargs` can include `workers`, `use_multiprocessing`, `max_queue_size`. Do not pass these arguments to `fit()`, as they will be ignored.\n",
            "  self._warn_if_super_not_called()\n"
          ]
        },
        {
          "name": "stdout",
          "output_type": "stream",
          "text": [
            "Epoch 1/15\n",
            "\u001b[1m195/195\u001b[0m \u001b[32m━━━━━━━━━━━━━━━━━━━━\u001b[0m\u001b[37m\u001b[0m \u001b[1m5177s\u001b[0m 27s/step - accuracy: 0.4083 - loss: 1.8120 - val_accuracy: 0.7262 - val_loss: 0.7594\n",
            "Epoch 2/15\n",
            "\u001b[1m195/195\u001b[0m \u001b[32m━━━━━━━━━━━━━━━━━━━━\u001b[0m\u001b[37m\u001b[0m \u001b[1m79s\u001b[0m 403ms/step - accuracy: 0.7672 - loss: 0.6487 - val_accuracy: 0.9130 - val_loss: 0.2811\n",
            "Epoch 3/15\n",
            "\u001b[1m195/195\u001b[0m \u001b[32m━━━━━━━━━━━━━━━━━━━━\u001b[0m\u001b[37m\u001b[0m \u001b[1m79s\u001b[0m 404ms/step - accuracy: 0.8794 - loss: 0.3590 - val_accuracy: 0.9011 - val_loss: 0.3006\n",
            "Epoch 4/15\n",
            "\u001b[1m195/195\u001b[0m \u001b[32m━━━━━━━━━━━━━━━━━━━━\u001b[0m\u001b[37m\u001b[0m \u001b[1m79s\u001b[0m 405ms/step - accuracy: 0.9074 - loss: 0.2816 - val_accuracy: 0.9670 - val_loss: 0.1496\n",
            "Epoch 5/15\n",
            "\u001b[1m195/195\u001b[0m \u001b[32m━━━━━━━━━━━━━━━━━━━━\u001b[0m\u001b[37m\u001b[0m \u001b[1m79s\u001b[0m 404ms/step - accuracy: 0.9353 - loss: 0.1899 - val_accuracy: 0.9615 - val_loss: 0.1718\n",
            "Epoch 6/15\n",
            "\u001b[1m195/195\u001b[0m \u001b[32m━━━━━━━━━━━━━━━━━━━━\u001b[0m\u001b[37m\u001b[0m \u001b[1m79s\u001b[0m 407ms/step - accuracy: 0.9472 - loss: 0.1598 - val_accuracy: 0.9615 - val_loss: 0.1628\n",
            "Epoch 7/15\n",
            "\u001b[1m195/195\u001b[0m \u001b[32m━━━━━━━━━━━━━━━━━━━━\u001b[0m\u001b[37m\u001b[0m \u001b[1m79s\u001b[0m 403ms/step - accuracy: 0.9639 - loss: 0.1198 - val_accuracy: 0.9716 - val_loss: 0.1155\n",
            "Epoch 8/15\n",
            "\u001b[1m195/195\u001b[0m \u001b[32m━━━━━━━━━━━━━━━━━━━━\u001b[0m\u001b[37m\u001b[0m \u001b[1m79s\u001b[0m 403ms/step - accuracy: 0.9716 - loss: 0.0852 - val_accuracy: 0.9625 - val_loss: 0.1574\n",
            "Epoch 9/15\n",
            "\u001b[1m195/195\u001b[0m \u001b[32m━━━━━━━━━━━━━━━━━━━━\u001b[0m\u001b[37m\u001b[0m \u001b[1m80s\u001b[0m 410ms/step - accuracy: 0.9802 - loss: 0.0664 - val_accuracy: 0.9744 - val_loss: 0.1194\n",
            "Epoch 10/15\n",
            "\u001b[1m195/195\u001b[0m \u001b[32m━━━━━━━━━━━━━━━━━━━━\u001b[0m\u001b[37m\u001b[0m \u001b[1m79s\u001b[0m 405ms/step - accuracy: 0.9666 - loss: 0.0928 - val_accuracy: 0.9560 - val_loss: 0.1619\n",
            "Epoch 11/15\n",
            "\u001b[1m195/195\u001b[0m \u001b[32m━━━━━━━━━━━━━━━━━━━━\u001b[0m\u001b[37m\u001b[0m \u001b[1m80s\u001b[0m 408ms/step - accuracy: 0.9631 - loss: 0.1037 - val_accuracy: 0.9753 - val_loss: 0.1279\n",
            "Epoch 12/15\n",
            "\u001b[1m195/195\u001b[0m \u001b[32m━━━━━━━━━━━━━━━━━━━━\u001b[0m\u001b[37m\u001b[0m \u001b[1m79s\u001b[0m 406ms/step - accuracy: 0.9767 - loss: 0.0680 - val_accuracy: 0.9744 - val_loss: 0.1235\n",
            "Epoch 13/15\n",
            "\u001b[1m195/195\u001b[0m \u001b[32m━━━━━━━━━━━━━━━━━━━━\u001b[0m\u001b[37m\u001b[0m \u001b[1m79s\u001b[0m 405ms/step - accuracy: 0.9843 - loss: 0.0594 - val_accuracy: 0.9826 - val_loss: 0.1361\n",
            "Epoch 14/15\n",
            "\u001b[1m195/195\u001b[0m \u001b[32m━━━━━━━━━━━━━━━━━━━━\u001b[0m\u001b[37m\u001b[0m \u001b[1m80s\u001b[0m 408ms/step - accuracy: 0.9830 - loss: 0.0482 - val_accuracy: 0.9606 - val_loss: 0.1915\n",
            "Epoch 15/15\n",
            "\u001b[1m195/195\u001b[0m \u001b[32m━━━━━━━━━━━━━━━━━━━━\u001b[0m\u001b[37m\u001b[0m \u001b[1m80s\u001b[0m 408ms/step - accuracy: 0.9680 - loss: 0.0936 - val_accuracy: 0.9725 - val_loss: 0.1211\n"
          ]
        }
      ],
      "source": [
        "history_cnn = cnn_model.fit(train_data,steps_per_epoch=len(train_data),epochs=15,validation_data=val_data,validation_steps=len(val_data))"
      ]
    },
    {
      "cell_type": "code",
      "execution_count": null,
      "metadata": {
        "id": "19R0nhKLBrNH"
      },
      "outputs": [],
      "source": [
        "import matplotlib.pyplot as plt\n",
        "import pandas as pd\n",
        "import numpy as np\n",
        "import seaborn as sns\n",
        "import tensorflow as tf\n",
        "from sklearn.metrics import classification_report, confusion_matrix"
      ]
    },
    {
      "cell_type": "code",
      "execution_count": null,
      "metadata": {
        "id": "pXN7wToGNHpB"
      },
      "outputs": [],
      "source": [
        "def plot_history(history, title):\n",
        "    plt.figure(figsize=(10,4))\n",
        "    plt.subplot(1,2,1)\n",
        "    plt.plot(history.history['accuracy'], label='Train')\n",
        "    plt.plot(history.history['val_accuracy'], label='Val')\n",
        "    plt.title(f'{title} Accuracy')\n",
        "    plt.legend()\n",
        "    plt.subplot(1,2,2)\n",
        "    plt.plot(history.history['loss'], label='Train')\n",
        "    plt.plot(history.history['val_loss'], label='Val')\n",
        "    plt.title(f'{title} Loss')\n",
        "    plt.legend()\n",
        "    plt.show()"
      ]
    },
    {
      "cell_type": "code",
      "execution_count": null,
      "metadata": {
        "id": "tfy95lbLObwx"
      },
      "outputs": [],
      "source": [
        "def show_and_save_confusion_matrix(y_true, y_pred, class_names, model_name, save_csv=True):\n",
        "    cm = confusion_matrix(y_true, y_pred)\n",
        "    plt.figure(figsize=(10,8))\n",
        "    sns.heatmap(cm, annot=True, fmt='d', cmap='Blues',\n",
        "                xticklabels=class_names, yticklabels=class_names)\n",
        "    plt.title(f\"{model_name} - Confusion Matrix\")\n",
        "    plt.xlabel(\"Predicted\")\n",
        "    plt.ylabel(\"Actual\")\n",
        "    plt.xticks(rotation=45, ha='right')\n",
        "    plt.tight_layout()\n",
        "    plt.show()\n",
        "\n",
        "    if save_csv:\n",
        "        cm_df = pd.DataFrame(cm, index=class_names, columns=class_names)\n",
        "        cm_df.to_csv(f\"/content/{model_name}_confusion_matrix.csv\")\n",
        "        print(f\"✅ Saved {model_name}_confusion_matrix.csv\")\n",
        "    return cm"
      ]
    },
    {
      "cell_type": "code",
      "execution_count": null,
      "metadata": {
        "id": "30n0b3B0Br1C"
      },
      "outputs": [],
      "source": [
        "def evaluate_and_report(model, test_data, model_name):\n",
        "    # Get predictions\n",
        "    y_true = test_data.classes\n",
        "    y_pred = np.argmax(model.predict(test_data), axis=1)\n",
        "    class_names = list(test_data.class_indices.keys())\n",
        "\n",
        "    # Accuracy\n",
        "    acc = np.mean(y_true == y_pred)\n",
        "    print(f\"\\n📊 {model_name} Accuracy: {acc*100:.2f}%\")\n",
        "\n",
        "    # Classification report\n",
        "    print(\"\\nClassification Report:\")\n",
        "    print(classification_report(y_true, y_pred, target_names=class_names))\n",
        "\n",
        "    # Confusion matrix (simple numeric output)\n",
        "    cm = confusion_matrix(y_true, y_pred)\n",
        "    print(\"Confusion Matrix:\\n\", cm)\n",
        "\n",
        "    return acc, cm"
      ]
    },
    {
      "cell_type": "code",
      "execution_count": null,
      "metadata": {
        "colab": {
          "base_uri": "https://localhost:8080/",
          "height": 1000
        },
        "id": "25XZs78pBtKz",
        "outputId": "21883110-001a-41d9-c73c-5dca297641ee"
      },
      "outputs": [
        {
          "data": {
            "image/png": "[encoded data removed]",
            "text/plain": [
              "<Figure size 1000x400 with 2 Axes>"
            ]
          },
          "metadata": {},
          "output_type": "display_data"
        },
        {
          "name": "stderr",
          "output_type": "stream",
          "text": [
            "/usr/local/lib/python3.12/dist-packages/keras/src/trainers/data_adapters/py_dataset_adapter.py:121: UserWarning: Your `PyDataset` class should call `super().__init__(**kwargs)` in its constructor. `**kwargs` can include `workers`, `use_multiprocessing`, `max_queue_size`. Do not pass these arguments to `fit()`, as they will be ignored.\n",
            "  self._warn_if_super_not_called()\n"
          ]
        },
        {
          "name": "stdout",
          "output_type": "stream",
          "text": [
            "\u001b[1m100/100\u001b[0m \u001b[32m━━━━━━━━━━━━━━━━━━━━\u001b[0m\u001b[37m\u001b[0m \u001b[1m2435s\u001b[0m 25s/step\n",
            "\n",
            "📊 CNN Accuracy: 97.68%\n",
            "\n",
            "Classification Report:\n",
            "                                  precision    recall  f1-score   support\n",
            "\n",
            "                     animal fish       0.98      0.98      0.98       520\n",
            "                animal fish bass       0.67      0.15      0.25        13\n",
            "   fish sea_food black_sea_sprat       0.93      1.00      0.96       298\n",
            "   fish sea_food gilt_head_bream       0.97      0.97      0.97       305\n",
            "   fish sea_food hourse_mackerel       1.00      1.00      1.00       286\n",
            "        fish sea_food red_mullet       0.97      1.00      0.98       291\n",
            "     fish sea_food red_sea_bream       1.00      0.95      0.97       273\n",
            "          fish sea_food sea_bass       0.97      0.98      0.97       327\n",
            "            fish sea_food shrimp       0.99      1.00      1.00       289\n",
            "fish sea_food striped_red_mullet       0.99      0.94      0.96       293\n",
            "             fish sea_food trout       0.98      0.99      0.99       292\n",
            "\n",
            "                        accuracy                           0.98      3187\n",
            "                       macro avg       0.95      0.91      0.91      3187\n",
            "                    weighted avg       0.98      0.98      0.98      3187\n",
            "\n",
            "Confusion Matrix:\n",
            " [[508   1   7   0   0   4   0   0   0   0   0]\n",
            " [ 11   2   0   0   0   0   0   0   0   0   0]\n",
            " [  0   0 298   0   0   0   0   0   0   0   0]\n",
            " [  0   0   0 296   0   0   1   8   0   0   0]\n",
            " [  0   0   0   0 286   0   0   0   0   0   0]\n",
            " [  0   0   0   0   0 291   0   0   0   0   0]\n",
            " [  0   0   0   8   0   0 259   0   0   1   5]\n",
            " [  0   0   5   1   0   0   0 320   0   1   0]\n",
            " [  0   0   0   0   0   0   0   0 289   0   0]\n",
            " [  0   0  10   0   0   5   0   1   2 275   0]\n",
            " [  1   0   0   0   0   0   0   2   0   0 289]]\n"
          ]
        }
      ],
      "source": [
        "plot_history(history_cnn, \"CNN\")\n",
        "acc_cnn, cm_cnn = evaluate_and_report(cnn_model, test_data, \"CNN\")"
      ]
    },
    {
      "cell_type": "code",
      "execution_count": null,
      "metadata": {
        "colab": {
          "base_uri": "https://localhost:8080/"
        },
        "id": "2FNpmlTc0PHy",
        "outputId": "4f59b96d-6080-4c8d-b7fa-fc20efbf69ff"
      },
      "outputs": [
        {
          "name": "stderr",
          "output_type": "stream",
          "text": [
            "WARNING:absl:You are saving your model as an HDF5 file via `model.save()` or `keras.saving.save_model(model)`. This file format is considered legacy. We recommend using instead the native Keras format, e.g. `model.save('my_model.keras')` or `keras.saving.save_model(model, 'my_model.keras')`. \n"
          ]
        },
        {
          "name": "stdout",
          "output_type": "stream",
          "text": [
            "✅ Saved cnn_fish_model.h5\n",
            "✅ Saved class_labels.json\n"
          ]
        }
      ],
      "source": [
        "cnn_model.save('/content/cnn_fish_model.h5')\n",
        "print(\"✅ Saved cnn_fish_model.h5\")\n",
        "\n",
        "import json\n",
        "labels = list(train_data.class_indices.keys())\n",
        "with open('/content/class_labels.json', 'w') as f:\n",
        "    json.dump(labels, f)\n",
        "print(\"✅ Saved class_labels.json\")"
      ]
    },
    {
      "cell_type": "code",
      "execution_count": null,
      "metadata": {
        "id": "EMzHB-yWCHkt"
      },
      "outputs": [],
      "source": [
        "from tensorflow.keras.applications import VGG16, ResNet50, MobileNet, InceptionV3, EfficientNetB0\n",
        "from tensorflow.keras.models import Sequential, Model\n",
        "from tensorflow.keras.layers import Conv2D, MaxPooling2D, Flatten, Dense, Dropout, BatchNormalization, GlobalAveragePooling2D\n",
        "from tensorflow.keras.callbacks import ModelCheckpoint, EarlyStopping, ReduceLROnPlateau\n",
        "pretrained_models = {\n",
        "'VGG16': VGG16,\n",
        "'ResNet50': ResNet50,\n",
        "'MobileNet': MobileNet,\n",
        "'InceptionV3': InceptionV3,\n",
        "'EfficientNetB0': EfficientNetB0\n",
        "}"
      ]
    },
    {
      "cell_type": "code",
      "execution_count": null,
      "metadata": {
        "id": "3C-aXxaLCJLJ"
      },
      "outputs": [],
      "source": [
        "from tensorflow.keras import layers\n",
        "\n",
        "def build_tl_model(base_model_class, input_shape=(224,224,3), num_classes=len(train_data.class_indices)):\n",
        "    base_model = base_model_class(weights='imagenet', include_top=False, input_shape=input_shape)\n",
        "    for layer in base_model.layers:\n",
        "        layer.trainable = False\n",
        "\n",
        "    x = GlobalAveragePooling2D()(base_model.output)\n",
        "    x = Dense(512, activation='relu',)(x)\n",
        "    output = Dense(num_classes, activation='softmax')(x)\n",
        "\n",
        "    model = Model(inputs=base_model.input, outputs=output)\n",
        "    model.compile(optimizer='adam', loss='categorical_crossentropy', metrics=['accuracy'])\n",
        "    return model"
      ]
    },
    {
      "cell_type": "code",
      "execution_count": null,
      "metadata": {
        "colab": {
          "background_save": true,
          "base_uri": "https://localhost:8080/"
        },
        "id": "pjDP0IM7sqN8",
        "outputId": "1a8c7de5-696c-4e89-a310-66b184a677d4"
      },
      "outputs": [
        {
          "name": "stdout",
          "output_type": "stream",
          "text": [
            "\n",
            "🚀 Training VGG16 (base model frozen)...\n",
            "Downloading data from https://storage.googleapis.com/tensorflow/keras-applications/vgg16/vgg16_weights_tf_dim_ordering_tf_kernels_notop.h5\n",
            "\u001b[1m58889256/58889256\u001b[0m \u001b[32m━━━━━━━━━━━━━━━━━━━━\u001b[0m\u001b[37m\u001b[0m \u001b[1m4s\u001b[0m 0us/step\n",
            "Epoch 1/10\n",
            "\u001b[1m195/195\u001b[0m \u001b[32m━━━━━━━━━━━━━━━━━━━━\u001b[0m\u001b[37m\u001b[0m \u001b[1m100s\u001b[0m 465ms/step - accuracy: 0.4842 - loss: 1.6296 - val_accuracy: 0.8352 - val_loss: 0.6867\n",
            "Epoch 2/10\n",
            "\u001b[1m195/195\u001b[0m \u001b[32m━━━━━━━━━━━━━━━━━━━━\u001b[0m\u001b[37m\u001b[0m \u001b[1m79s\u001b[0m 405ms/step - accuracy: 0.8370 - loss: 0.6218 - val_accuracy: 0.9020 - val_loss: 0.4052\n",
            "Epoch 3/10\n",
            "\u001b[1m195/195\u001b[0m \u001b[32m━━━━━━━━━━━━━━━━━━━━\u001b[0m\u001b[37m\u001b[0m \u001b[1m79s\u001b[0m 406ms/step - accuracy: 0.8951 - loss: 0.3779 - val_accuracy: 0.9350 - val_loss: 0.2717\n",
            "Epoch 4/10\n",
            "\u001b[1m195/195\u001b[0m \u001b[32m━━━━━━━━━━━━━━━━━━━━\u001b[0m\u001b[37m\u001b[0m \u001b[1m79s\u001b[0m 405ms/step - accuracy: 0.9218 - loss: 0.2835 - val_accuracy: 0.9487 - val_loss: 0.2016\n",
            "Epoch 5/10\n",
            "\u001b[1m195/195\u001b[0m \u001b[32m━━━━━━━━━━━━━━━━━━━━\u001b[0m\u001b[37m\u001b[0m \u001b[1m79s\u001b[0m 407ms/step - accuracy: 0.9288 - loss: 0.2512 - val_accuracy: 0.9322 - val_loss: 0.2126\n",
            "Epoch 6/10\n",
            "\u001b[1m195/195\u001b[0m \u001b[32m━━━━━━━━━━━━━━━━━━━━\u001b[0m\u001b[37m\u001b[0m \u001b[1m79s\u001b[0m 408ms/step - accuracy: 0.9448 - loss: 0.1927 - val_accuracy: 0.9441 - val_loss: 0.1744\n",
            "Epoch 7/10\n",
            "\u001b[1m195/195\u001b[0m \u001b[32m━━━━━━━━━━━━━━━━━━━━\u001b[0m\u001b[37m\u001b[0m \u001b[1m79s\u001b[0m 406ms/step - accuracy: 0.9534 - loss: 0.1607 - val_accuracy: 0.9625 - val_loss: 0.1270\n",
            "Epoch 8/10\n",
            "\u001b[1m195/195\u001b[0m \u001b[32m━━━━━━━━━━━━━━━━━━━━\u001b[0m\u001b[37m\u001b[0m \u001b[1m78s\u001b[0m 402ms/step - accuracy: 0.9549 - loss: 0.1460 - val_accuracy: 0.9634 - val_loss: 0.1404\n",
            "Epoch 9/10\n",
            "\u001b[1m195/195\u001b[0m \u001b[32m━━━━━━━━━━━━━━━━━━━━\u001b[0m\u001b[37m\u001b[0m \u001b[1m79s\u001b[0m 404ms/step - accuracy: 0.9587 - loss: 0.1261 - val_accuracy: 0.9606 - val_loss: 0.1201\n",
            "Epoch 10/10\n",
            "\u001b[1m195/195\u001b[0m \u001b[32m━━━━━━━━━━━━━━━━━━━━\u001b[0m\u001b[37m\u001b[0m \u001b[1m79s\u001b[0m 407ms/step - accuracy: 0.9602 - loss: 0.1290 - val_accuracy: 0.9615 - val_loss: 0.1182\n",
            "🔧 Fine-tuning VGG16 (top layers unfrozen)...\n",
            "Epoch 1/5\n",
            "\u001b[1m195/195\u001b[0m \u001b[32m━━━━━━━━━━━━━━━━━━━━\u001b[0m\u001b[37m\u001b[0m \u001b[1m115s\u001b[0m 486ms/step - accuracy: 0.9636 - loss: 0.1089 - val_accuracy: 0.9881 - val_loss: 0.0363\n",
            "Epoch 2/5\n",
            "\u001b[1m195/195\u001b[0m \u001b[32m━━━━━━━━━━━━━━━━━━━━\u001b[0m\u001b[37m\u001b[0m \u001b[1m80s\u001b[0m 411ms/step - accuracy: 0.9901 - loss: 0.0329 - val_accuracy: 0.9899 - val_loss: 0.0322\n",
            "Epoch 3/5\n",
            "\u001b[1m195/195\u001b[0m \u001b[32m━━━━━━━━━━━━━━━━━━━━\u001b[0m\u001b[37m\u001b[0m \u001b[1m80s\u001b[0m 410ms/step - accuracy: 0.9887 - loss: 0.0357 - val_accuracy: 0.9936 - val_loss: 0.0238\n",
            "Epoch 4/5\n",
            "\u001b[1m195/195\u001b[0m \u001b[32m━━━━━━━━━━━━━━━━━━━━\u001b[0m\u001b[37m\u001b[0m \u001b[1m80s\u001b[0m 408ms/step - accuracy: 0.9959 - loss: 0.0102 - val_accuracy: 0.9927 - val_loss: 0.0190\n",
            "Epoch 5/5\n",
            "\u001b[1m195/195\u001b[0m \u001b[32m━━━━━━━━━━━━━━━━━━━━\u001b[0m\u001b[37m\u001b[0m \u001b[1m79s\u001b[0m 407ms/step - accuracy: 0.9974 - loss: 0.0091 - val_accuracy: 0.9945 - val_loss: 0.0221\n",
            "\u001b[1m100/100\u001b[0m \u001b[32m━━━━━━━━━━━━━━━━━━━━\u001b[0m\u001b[37m\u001b[0m \u001b[1m15s\u001b[0m 137ms/step\n"
          ]
        },
        {
          "name": "stderr",
          "output_type": "stream",
          "text": [
            "WARNING:absl:You are saving your model as an HDF5 file via `model.save()` or `keras.saving.save_model(model)`. This file format is considered legacy. We recommend using instead the native Keras format, e.g. `model.save('my_model.keras')` or `keras.saving.save_model(model, 'my_model.keras')`. \n"
          ]
        },
        {
          "name": "stdout",
          "output_type": "stream",
          "text": [
            "\n",
            "📊 VGG16_FineTuned Accuracy: 99.81%\n",
            "\n",
            "Classification Report:\n",
            "                                  precision    recall  f1-score   support\n",
            "\n",
            "                     animal fish       0.99      1.00      0.99       520\n",
            "                animal fish bass       0.82      0.69      0.75        13\n",
            "   fish sea_food black_sea_sprat       1.00      1.00      1.00       298\n",
            "   fish sea_food gilt_head_bream       1.00      1.00      1.00       305\n",
            "   fish sea_food hourse_mackerel       1.00      1.00      1.00       286\n",
            "        fish sea_food red_mullet       1.00      1.00      1.00       291\n",
            "     fish sea_food red_sea_bream       1.00      1.00      1.00       273\n",
            "          fish sea_food sea_bass       1.00      1.00      1.00       327\n",
            "            fish sea_food shrimp       1.00      1.00      1.00       289\n",
            "fish sea_food striped_red_mullet       1.00      1.00      1.00       293\n",
            "             fish sea_food trout       1.00      1.00      1.00       292\n",
            "\n",
            "                        accuracy                           1.00      3187\n",
            "                       macro avg       0.98      0.97      0.98      3187\n",
            "                    weighted avg       1.00      1.00      1.00      3187\n",
            "\n",
            "Confusion Matrix:\n",
            " [[518   2   0   0   0   0   0   0   0   0   0]\n",
            " [  4   9   0   0   0   0   0   0   0   0   0]\n",
            " [  0   0 298   0   0   0   0   0   0   0   0]\n",
            " [  0   0   0 305   0   0   0   0   0   0   0]\n",
            " [  0   0   0   0 286   0   0   0   0   0   0]\n",
            " [  0   0   0   0   0 291   0   0   0   0   0]\n",
            " [  0   0   0   0   0   0 273   0   0   0   0]\n",
            " [  0   0   0   0   0   0   0 327   0   0   0]\n",
            " [  0   0   0   0   0   0   0   0 289   0   0]\n",
            " [  0   0   0   0   0   0   0   0   0 293   0]\n",
            " [  0   0   0   0   0   0   0   0   0   0 292]]\n",
            "\n",
            "🚀 Training ResNet50 (base model frozen)...\n",
            "Downloading data from https://storage.googleapis.com/tensorflow/keras-applications/resnet/resnet50_weights_tf_dim_ordering_tf_kernels_notop.h5\n",
            "\u001b[1m94765736/94765736\u001b[0m \u001b[32m━━━━━━━━━━━━━━━━━━━━\u001b[0m\u001b[37m\u001b[0m \u001b[1m6s\u001b[0m 0us/step\n",
            "Epoch 1/10\n",
            "\u001b[1m195/195\u001b[0m \u001b[32m━━━━━━━━━━━━━━━━━━━━\u001b[0m\u001b[37m\u001b[0m \u001b[1m109s\u001b[0m 490ms/step - accuracy: 0.1724 - loss: 2.3322 - val_accuracy: 0.2564 - val_loss: 2.0406\n",
            "Epoch 2/10\n",
            "\u001b[1m195/195\u001b[0m \u001b[32m━━━━━━━━━━━━━━━━━━━━\u001b[0m\u001b[37m\u001b[0m \u001b[1m79s\u001b[0m 404ms/step - accuracy: 0.2746 - loss: 2.0518 - val_accuracy: 0.3077 - val_loss: 1.9324\n",
            "Epoch 3/10\n",
            "\u001b[1m195/195\u001b[0m \u001b[32m━━━━━━━━━━━━━━━━━━━━\u001b[0m\u001b[37m\u001b[0m \u001b[1m79s\u001b[0m 407ms/step - accuracy: 0.3066 - loss: 1.9394 - val_accuracy: 0.2875 - val_loss: 1.9331\n",
            "Epoch 4/10\n",
            "\u001b[1m195/195\u001b[0m \u001b[32m━━━━━━━━━━━━━━━━━━━━\u001b[0m\u001b[37m\u001b[0m \u001b[1m80s\u001b[0m 409ms/step - accuracy: 0.3143 - loss: 1.8955 - val_accuracy: 0.4176 - val_loss: 1.8331\n",
            "Epoch 5/10\n",
            "\u001b[1m195/195\u001b[0m \u001b[32m━━━━━━━━━━━━━━━━━━━━\u001b[0m\u001b[37m\u001b[0m \u001b[1m79s\u001b[0m 407ms/step - accuracy: 0.3759 - loss: 1.8051 - val_accuracy: 0.4258 - val_loss: 1.6487\n",
            "Epoch 6/10\n",
            "\u001b[1m195/195\u001b[0m \u001b[32m━━━━━━━━━━━━━━━━━━━━\u001b[0m\u001b[37m\u001b[0m \u001b[1m80s\u001b[0m 409ms/step - accuracy: 0.4070 - loss: 1.7165 - val_accuracy: 0.4451 - val_loss: 1.6510\n",
            "Epoch 7/10\n",
            "\u001b[1m195/195\u001b[0m \u001b[32m━━━━━━━━━━━━━━━━━━━━\u001b[0m\u001b[37m\u001b[0m \u001b[1m79s\u001b[0m 406ms/step - accuracy: 0.4141 - loss: 1.6672 - val_accuracy: 0.3626 - val_loss: 1.7646\n",
            "Epoch 8/10\n",
            "\u001b[1m195/195\u001b[0m \u001b[32m━━━━━━━━━━━━━━━━━━━━\u001b[0m\u001b[37m\u001b[0m \u001b[1m79s\u001b[0m 405ms/step - accuracy: 0.4104 - loss: 1.6612 - val_accuracy: 0.4661 - val_loss: 1.5134\n",
            "Epoch 9/10\n",
            "\u001b[1m195/195\u001b[0m \u001b[32m━━━━━━━━━━━━━━━━━━━━\u001b[0m\u001b[37m\u001b[0m \u001b[1m79s\u001b[0m 405ms/step - accuracy: 0.4372 - loss: 1.5823 - val_accuracy: 0.4753 - val_loss: 1.5169\n",
            "Epoch 10/10\n",
            "\u001b[1m195/195\u001b[0m \u001b[32m━━━━━━━━━━━━━━━━━━━━\u001b[0m\u001b[37m\u001b[0m \u001b[1m80s\u001b[0m 408ms/step - accuracy: 0.4275 - loss: 1.5946 - val_accuracy: 0.5119 - val_loss: 1.4203\n",
            "🔧 Fine-tuning ResNet50 (top layers unfrozen)...\n",
            "Epoch 1/5\n",
            "\u001b[1m195/195\u001b[0m \u001b[32m━━━━━━━━━━━━━━━━━━━━\u001b[0m\u001b[37m\u001b[0m \u001b[1m111s\u001b[0m 480ms/step - accuracy: 0.3373 - loss: 2.0693 - val_accuracy: 0.5842 - val_loss: 1.3210\n",
            "Epoch 2/5\n",
            "\u001b[1m195/195\u001b[0m \u001b[32m━━━━━━━━━━━━━━━━━━━━\u001b[0m\u001b[37m\u001b[0m \u001b[1m79s\u001b[0m 406ms/step - accuracy: 0.4808 - loss: 1.4437 - val_accuracy: 0.5458 - val_loss: 1.2734\n",
            "Epoch 3/5\n",
            "\u001b[1m195/195\u001b[0m \u001b[32m━━━━━━━━━━━━━━━━━━━━\u001b[0m\u001b[37m\u001b[0m \u001b[1m79s\u001b[0m 405ms/step - accuracy: 0.5395 - loss: 1.3046 - val_accuracy: 0.5412 - val_loss: 1.2676\n",
            "Epoch 4/5\n",
            "\u001b[1m195/195\u001b[0m \u001b[32m━━━━━━━━━━━━━━━━━━━━\u001b[0m\u001b[37m\u001b[0m \u001b[1m80s\u001b[0m 413ms/step - accuracy: 0.5343 - loss: 1.2788 - val_accuracy: 0.5989 - val_loss: 1.1761\n",
            "Epoch 5/5\n",
            "\u001b[1m195/195\u001b[0m \u001b[32m━━━━━━━━━━━━━━━━━━━━\u001b[0m\u001b[37m\u001b[0m \u001b[1m81s\u001b[0m 413ms/step - accuracy: 0.5641 - loss: 1.1994 - val_accuracy: 0.6328 - val_loss: 1.0692\n",
            "\u001b[1m100/100\u001b[0m \u001b[32m━━━━━━━━━━━━━━━━━━━━\u001b[0m\u001b[37m\u001b[0m \u001b[1m20s\u001b[0m 161ms/step\n"
          ]
        },
        {
          "name": "stderr",
          "output_type": "stream",
          "text": [
            "WARNING:absl:You are saving your model as an HDF5 file via `model.save()` or `keras.saving.save_model(model)`. This file format is considered legacy. We recommend using instead the native Keras format, e.g. `model.save('my_model.keras')` or `keras.saving.save_model(model, 'my_model.keras')`. \n"
          ]
        },
        {
          "name": "stdout",
          "output_type": "stream",
          "text": [
            "\n",
            "📊 ResNet50_FineTuned Accuracy: 64.73%\n",
            "\n",
            "Classification Report:\n",
            "                                  precision    recall  f1-score   support\n",
            "\n",
            "                     animal fish       0.84      0.96      0.90       520\n",
            "                animal fish bass       0.00      0.00      0.00        13\n",
            "   fish sea_food black_sea_sprat       0.66      0.65      0.65       298\n",
            "   fish sea_food gilt_head_bream       0.70      0.42      0.52       305\n",
            "   fish sea_food hourse_mackerel       0.56      0.78      0.65       286\n",
            "        fish sea_food red_mullet       0.59      0.47      0.52       291\n",
            "     fish sea_food red_sea_bream       0.94      0.57      0.71       273\n",
            "          fish sea_food sea_bass       0.51      0.56      0.53       327\n",
            "            fish sea_food shrimp       0.54      0.95      0.69       289\n",
            "fish sea_food striped_red_mullet       0.67      0.11      0.18       293\n",
            "             fish sea_food trout       0.59      0.83      0.69       292\n",
            "\n",
            "                        accuracy                           0.65      3187\n",
            "                       macro avg       0.60      0.57      0.55      3187\n",
            "                    weighted avg       0.67      0.65      0.62      3187\n",
            "\n",
            "Confusion Matrix:\n",
            " [[501   3   5   3   0   1   2   0   3   1   1]\n",
            " [ 12   0   0   0   0   0   0   1   0   0   0]\n",
            " [ 13   0 193   0  15  13   0  51  10   3   0]\n",
            " [ 29   0   0 127  27   1   3  26   0   0  92]\n",
            " [  3   0  14   2 222   4   2  15   8   0  16]\n",
            " [ 13   0  18   0  21 137   0  12  90   0   0]\n",
            " [  8   0   0  30  17  13 155   4  13   0  33]\n",
            " [  7   0  24  12  34  30   0 182   6  10  22]\n",
            " [  1   0   2   0   6   5   0   1 274   0   0]\n",
            " [  5   0  36   6  35  26   2  47 103  31   2]\n",
            " [  3   0   0   1  20   1   1  21   3   1 241]]\n",
            "\n",
            "🚀 Training MobileNet (base model frozen)...\n",
            "Downloading data from https://storage.googleapis.com/tensorflow/keras-applications/mobilenet/mobilenet_1_0_224_tf_no_top.h5\n",
            "\u001b[1m17225924/17225924\u001b[0m \u001b[32m━━━━━━━━━━━━━━━━━━━━\u001b[0m\u001b[37m\u001b[0m \u001b[1m2s\u001b[0m 0us/step\n",
            "Epoch 1/10\n",
            "\u001b[1m195/195\u001b[0m \u001b[32m━━━━━━━━━━━━━━━━━━━━\u001b[0m\u001b[37m\u001b[0m \u001b[1m129s\u001b[0m 569ms/step - accuracy: 0.8061 - loss: 0.6652 - val_accuracy: 0.9780 - val_loss: 0.0649\n",
            "Epoch 2/10\n",
            "\u001b[1m195/195\u001b[0m \u001b[32m━━━━━━━━━━━━━━━━━━━━\u001b[0m\u001b[37m\u001b[0m \u001b[1m80s\u001b[0m 409ms/step - accuracy: 0.9840 - loss: 0.0512 - val_accuracy: 0.9973 - val_loss: 0.0160\n",
            "Epoch 3/10\n",
            "\u001b[1m195/195\u001b[0m \u001b[32m━━━━━━━━━━━━━━━━━━━━\u001b[0m\u001b[37m\u001b[0m \u001b[1m80s\u001b[0m 410ms/step - accuracy: 0.9916 - loss: 0.0375 - val_accuracy: 0.9945 - val_loss: 0.0162\n",
            "Epoch 4/10\n",
            "\u001b[1m195/195\u001b[0m \u001b[32m━━━━━━━━━━━━━━━━━━━━\u001b[0m\u001b[37m\u001b[0m \u001b[1m79s\u001b[0m 406ms/step - accuracy: 0.9898 - loss: 0.0278 - val_accuracy: 0.9918 - val_loss: 0.0417\n",
            "Epoch 5/10\n",
            "\u001b[1m195/195\u001b[0m \u001b[32m━━━━━━━━━━━━━━━━━━━━\u001b[0m\u001b[37m\u001b[0m \u001b[1m79s\u001b[0m 406ms/step - accuracy: 0.9888 - loss: 0.0383 - val_accuracy: 0.9982 - val_loss: 0.0108\n",
            "Epoch 6/10\n",
            "\u001b[1m195/195\u001b[0m \u001b[32m━━━━━━━━━━━━━━━━━━━━\u001b[0m\u001b[37m\u001b[0m \u001b[1m80s\u001b[0m 408ms/step - accuracy: 0.9886 - loss: 0.0327 - val_accuracy: 0.9835 - val_loss: 0.0414\n",
            "Epoch 7/10\n",
            "\u001b[1m195/195\u001b[0m \u001b[32m━━━━━━━━━━━━━━━━━━━━\u001b[0m\u001b[37m\u001b[0m \u001b[1m79s\u001b[0m 407ms/step - accuracy: 0.9925 - loss: 0.0253 - val_accuracy: 0.9982 - val_loss: 0.0040\n",
            "Epoch 8/10\n",
            "\u001b[1m195/195\u001b[0m \u001b[32m━━━━━━━━━━━━━━━━━━━━\u001b[0m\u001b[37m\u001b[0m \u001b[1m79s\u001b[0m 403ms/step - accuracy: 0.9977 - loss: 0.0091 - val_accuracy: 0.9918 - val_loss: 0.0221\n",
            "Epoch 9/10\n",
            "\u001b[1m195/195\u001b[0m \u001b[32m━━━━━━━━━━━━━━━━━━━━\u001b[0m\u001b[37m\u001b[0m \u001b[1m79s\u001b[0m 404ms/step - accuracy: 0.9833 - loss: 0.0508 - val_accuracy: 0.9973 - val_loss: 0.0071\n",
            "Epoch 10/10\n",
            "\u001b[1m195/195\u001b[0m \u001b[32m━━━━━━━━━━━━━━━━━━━━\u001b[0m\u001b[37m\u001b[0m \u001b[1m79s\u001b[0m 405ms/step - accuracy: 0.9889 - loss: 0.0349 - val_accuracy: 0.9963 - val_loss: 0.0185\n",
            "🔧 Fine-tuning MobileNet (top layers unfrozen)...\n",
            "Epoch 1/5\n",
            "\u001b[1m195/195\u001b[0m \u001b[32m━━━━━━━━━━━━━━━━━━━━\u001b[0m\u001b[37m\u001b[0m \u001b[1m107s\u001b[0m 483ms/step - accuracy: 0.9933 - loss: 0.0218 - val_accuracy: 0.9973 - val_loss: 0.0069\n",
            "Epoch 2/5\n",
            "\u001b[1m195/195\u001b[0m \u001b[32m━━━━━━━━━━━━━━━━━━━━\u001b[0m\u001b[37m\u001b[0m \u001b[1m79s\u001b[0m 403ms/step - accuracy: 0.9986 - loss: 0.0055 - val_accuracy: 0.9954 - val_loss: 0.0101\n",
            "Epoch 3/5\n",
            "\u001b[1m195/195\u001b[0m \u001b[32m━━━━━━━━━━━━━━━━━━━━\u001b[0m\u001b[37m\u001b[0m \u001b[1m80s\u001b[0m 409ms/step - accuracy: 0.9954 - loss: 0.0145 - val_accuracy: 0.9927 - val_loss: 0.0145\n",
            "Epoch 4/5\n",
            "\u001b[1m195/195\u001b[0m \u001b[32m━━━━━━━━━━━━━━━━━━━━\u001b[0m\u001b[37m\u001b[0m \u001b[1m79s\u001b[0m 405ms/step - accuracy: 0.9956 - loss: 0.0144 - val_accuracy: 0.9954 - val_loss: 0.0246\n",
            "Epoch 5/5\n",
            "\u001b[1m195/195\u001b[0m \u001b[32m━━━━━━━━━━━━━━━━━━━━\u001b[0m\u001b[37m\u001b[0m \u001b[1m79s\u001b[0m 404ms/step - accuracy: 0.9994 - loss: 0.0030 - val_accuracy: 0.9908 - val_loss: 0.0224\n",
            "\u001b[1m100/100\u001b[0m \u001b[32m━━━━━━━━━━━━━━━━━━━━\u001b[0m\u001b[37m\u001b[0m \u001b[1m29s\u001b[0m 257ms/step\n"
          ]
        },
        {
          "name": "stderr",
          "output_type": "stream",
          "text": [
            "WARNING:absl:You are saving your model as an HDF5 file via `model.save()` or `keras.saving.save_model(model)`. This file format is considered legacy. We recommend using instead the native Keras format, e.g. `model.save('my_model.keras')` or `keras.saving.save_model(model, 'my_model.keras')`. \n"
          ]
        },
        {
          "name": "stdout",
          "output_type": "stream",
          "text": [
            "\n",
            "📊 MobileNet_FineTuned Accuracy: 98.74%\n",
            "\n",
            "Classification Report:\n",
            "                                  precision    recall  f1-score   support\n",
            "\n",
            "                     animal fish       0.99      0.99      0.99       520\n",
            "                animal fish bass       1.00      0.77      0.87        13\n",
            "   fish sea_food black_sea_sprat       1.00      0.94      0.97       298\n",
            "   fish sea_food gilt_head_bream       1.00      0.99      0.99       305\n",
            "   fish sea_food hourse_mackerel       1.00      0.99      0.99       286\n",
            "        fish sea_food red_mullet       1.00      0.98      0.99       291\n",
            "     fish sea_food red_sea_bream       0.99      1.00      0.99       273\n",
            "          fish sea_food sea_bass       1.00      0.99      1.00       327\n",
            "            fish sea_food shrimp       1.00      1.00      1.00       289\n",
            "fish sea_food striped_red_mullet       0.90      1.00      0.95       293\n",
            "             fish sea_food trout       1.00      1.00      1.00       292\n",
            "\n",
            "                        accuracy                           0.99      3187\n",
            "                       macro avg       0.99      0.97      0.98      3187\n",
            "                    weighted avg       0.99      0.99      0.99      3187\n",
            "\n",
            "Confusion Matrix:\n",
            " [[517   0   0   0   0   1   0   0   0   2   0]\n",
            " [  3  10   0   0   0   0   0   0   0   0   0]\n",
            " [  0   0 279   0   1   0   0   0   0  18   0]\n",
            " [  0   0   0 301   0   0   4   0   0   0   0]\n",
            " [  0   0   0   0 284   0   0   0   0   2   0]\n",
            " [  0   0   0   0   0 284   0   0   0   7   0]\n",
            " [  0   0   0   0   0   0 273   0   0   0   0]\n",
            " [  0   0   0   0   0   0   0 325   0   2   0]\n",
            " [  0   0   0   0   0   0   0   0 289   0   0]\n",
            " [  0   0   0   0   0   0   0   0   0 293   0]\n",
            " [  0   0   0   0   0   0   0   0   0   0 292]]\n",
            "\n",
            "🚀 Training InceptionV3 (base model frozen)...\n",
            "Downloading data from https://storage.googleapis.com/tensorflow/keras-applications/inception_v3/inception_v3_weights_tf_dim_ordering_tf_kernels_notop.h5\n",
            "\u001b[1m87910968/87910968\u001b[0m \u001b[32m━━━━━━━━━━━━━━━━━━━━\u001b[0m\u001b[37m\u001b[0m \u001b[1m5s\u001b[0m 0us/step\n",
            "Epoch 1/10\n",
            "\u001b[1m195/195\u001b[0m \u001b[32m━━━━━━━━━━━━━━━━━━━━\u001b[0m\u001b[37m\u001b[0m \u001b[1m115s\u001b[0m 513ms/step - accuracy: 0.7458 - loss: 0.8831 - val_accuracy: 0.8755 - val_loss: 0.3313\n",
            "Epoch 2/10\n",
            "\u001b[1m195/195\u001b[0m \u001b[32m━━━━━━━━━━━━━━━━━━━━\u001b[0m\u001b[37m\u001b[0m \u001b[1m79s\u001b[0m 405ms/step - accuracy: 0.9356 - loss: 0.1882 - val_accuracy: 0.9194 - val_loss: 0.2134\n",
            "Epoch 3/10\n",
            "\u001b[1m195/195\u001b[0m \u001b[32m━━━━━━━━━━━━━━━━━━━━\u001b[0m\u001b[37m\u001b[0m \u001b[1m79s\u001b[0m 406ms/step - accuracy: 0.9585 - loss: 0.1222 - val_accuracy: 0.9744 - val_loss: 0.0817\n",
            "Epoch 4/10\n",
            "\u001b[1m195/195\u001b[0m \u001b[32m━━━━━━━━━━━━━━━━━━━━\u001b[0m\u001b[37m\u001b[0m \u001b[1m80s\u001b[0m 409ms/step - accuracy: 0.9674 - loss: 0.0956 - val_accuracy: 0.9679 - val_loss: 0.1018\n",
            "Epoch 5/10\n",
            "\u001b[1m195/195\u001b[0m \u001b[32m━━━━━━━━━━━━━━━━━━━━\u001b[0m\u001b[37m\u001b[0m \u001b[1m79s\u001b[0m 407ms/step - accuracy: 0.9687 - loss: 0.0894 - val_accuracy: 0.9799 - val_loss: 0.0581\n",
            "Epoch 6/10\n",
            "\u001b[1m195/195\u001b[0m \u001b[32m━━━━━━━━━━━━━━━━━━━━\u001b[0m\u001b[37m\u001b[0m \u001b[1m80s\u001b[0m 409ms/step - accuracy: 0.9720 - loss: 0.0811 - val_accuracy: 0.9588 - val_loss: 0.1237\n",
            "Epoch 7/10\n",
            "\u001b[1m195/195\u001b[0m \u001b[32m━━━━━━━━━━━━━━━━━━━━\u001b[0m\u001b[37m\u001b[0m \u001b[1m79s\u001b[0m 405ms/step - accuracy: 0.9784 - loss: 0.0700 - val_accuracy: 0.9716 - val_loss: 0.0824\n",
            "Epoch 8/10\n",
            "\u001b[1m195/195\u001b[0m \u001b[32m━━━━━━━━━━━━━━━━━━━━\u001b[0m\u001b[37m\u001b[0m \u001b[1m80s\u001b[0m 408ms/step - accuracy: 0.9683 - loss: 0.0848 - val_accuracy: 0.9789 - val_loss: 0.0640\n",
            "Epoch 9/10\n",
            "\u001b[1m195/195\u001b[0m \u001b[32m━━━━━━━━━━━━━━━━━━━━\u001b[0m\u001b[37m\u001b[0m \u001b[1m79s\u001b[0m 404ms/step - accuracy: 0.9826 - loss: 0.0521 - val_accuracy: 0.9789 - val_loss: 0.0564\n",
            "Epoch 10/10\n",
            "\u001b[1m195/195\u001b[0m \u001b[32m━━━━━━━━━━━━━━━━━━━━\u001b[0m\u001b[37m\u001b[0m \u001b[1m79s\u001b[0m 407ms/step - accuracy: 0.9750 - loss: 0.0707 - val_accuracy: 0.9799 - val_loss: 0.0539\n",
            "🔧 Fine-tuning InceptionV3 (top layers unfrozen)...\n",
            "Epoch 1/5\n",
            "\u001b[1m195/195\u001b[0m \u001b[32m━━━━━━━━━━━━━━━━━━━━\u001b[0m\u001b[37m\u001b[0m \u001b[1m113s\u001b[0m 495ms/step - accuracy: 0.9880 - loss: 0.0302 - val_accuracy: 0.9863 - val_loss: 0.0374\n",
            "Epoch 2/5\n",
            "\u001b[1m195/195\u001b[0m \u001b[32m━━━━━━━━━━━━━━━━━━━━\u001b[0m\u001b[37m\u001b[0m \u001b[1m80s\u001b[0m 410ms/step - accuracy: 0.9939 - loss: 0.0213 - val_accuracy: 0.9899 - val_loss: 0.0284\n",
            "Epoch 3/5\n",
            "\u001b[1m195/195\u001b[0m \u001b[32m━━━━━━━━━━━━━━━━━━━━\u001b[0m\u001b[37m\u001b[0m \u001b[1m79s\u001b[0m 405ms/step - accuracy: 0.9937 - loss: 0.0178 - val_accuracy: 0.9899 - val_loss: 0.0304\n",
            "Epoch 4/5\n",
            "\u001b[1m195/195\u001b[0m \u001b[32m━━━━━━━━━━━━━━━━━━━━\u001b[0m\u001b[37m\u001b[0m \u001b[1m80s\u001b[0m 412ms/step - accuracy: 0.9955 - loss: 0.0128 - val_accuracy: 0.9899 - val_loss: 0.0288\n",
            "Epoch 5/5\n",
            "\u001b[1m195/195\u001b[0m \u001b[32m━━━━━━━━━━━━━━━━━━━━\u001b[0m\u001b[37m\u001b[0m \u001b[1m81s\u001b[0m 413ms/step - accuracy: 0.9971 - loss: 0.0108 - val_accuracy: 0.9899 - val_loss: 0.0243\n",
            "\u001b[1m100/100\u001b[0m \u001b[32m━━━━━━━━━━━━━━━━━━━━\u001b[0m\u001b[37m\u001b[0m \u001b[1m25s\u001b[0m 181ms/step\n"
          ]
        },
        {
          "name": "stderr",
          "output_type": "stream",
          "text": [
            "WARNING:absl:You are saving your model as an HDF5 file via `model.save()` or `keras.saving.save_model(model)`. This file format is considered legacy. We recommend using instead the native Keras format, e.g. `model.save('my_model.keras')` or `keras.saving.save_model(model, 'my_model.keras')`. \n"
          ]
        },
        {
          "name": "stdout",
          "output_type": "stream",
          "text": [
            "\n",
            "📊 InceptionV3_FineTuned Accuracy: 99.69%\n",
            "\n",
            "Classification Report:\n",
            "                                  precision    recall  f1-score   support\n",
            "\n",
            "                     animal fish       1.00      0.99      0.99       520\n",
            "                animal fish bass       0.92      0.92      0.92        13\n",
            "   fish sea_food black_sea_sprat       1.00      1.00      1.00       298\n",
            "   fish sea_food gilt_head_bream       1.00      1.00      1.00       305\n",
            "   fish sea_food hourse_mackerel       1.00      1.00      1.00       286\n",
            "        fish sea_food red_mullet       1.00      0.99      1.00       291\n",
            "     fish sea_food red_sea_bream       1.00      1.00      1.00       273\n",
            "          fish sea_food sea_bass       0.99      1.00      1.00       327\n",
            "            fish sea_food shrimp       1.00      1.00      1.00       289\n",
            "fish sea_food striped_red_mullet       0.99      1.00      0.99       293\n",
            "             fish sea_food trout       1.00      1.00      1.00       292\n",
            "\n",
            "                        accuracy                           1.00      3187\n",
            "                       macro avg       0.99      0.99      0.99      3187\n",
            "                    weighted avg       1.00      1.00      1.00      3187\n",
            "\n",
            "Confusion Matrix:\n",
            " [[515   1   1   0   0   0   0   1   1   1   0]\n",
            " [  1  12   0   0   0   0   0   0   0   0   0]\n",
            " [  0   0 297   0   0   0   0   1   0   0   0]\n",
            " [  0   0   0 305   0   0   0   0   0   0   0]\n",
            " [  0   0   0   0 286   0   0   0   0   0   0]\n",
            " [  0   0   0   0   0 289   0   0   0   2   0]\n",
            " [  0   0   0   0   0   0 273   0   0   0   0]\n",
            " [  0   0   0   0   0   0   0 327   0   0   0]\n",
            " [  0   0   0   0   0   0   0   0 289   0   0]\n",
            " [  0   0   0   0   0   0   0   1   0 292   0]\n",
            " [  0   0   0   0   0   0   0   0   0   0 292]]\n",
            "\n",
            "🚀 Training EfficientNetB0 (base model frozen)...\n",
            "Downloading data from https://storage.googleapis.com/keras-applications/efficientnetb0_notop.h5\n",
            "\u001b[1m16705208/16705208\u001b[0m \u001b[32m━━━━━━━━━━━━━━━━━━━━\u001b[0m\u001b[37m\u001b[0m \u001b[1m2s\u001b[0m 0us/step\n",
            "Epoch 1/10\n",
            "\u001b[1m195/195\u001b[0m \u001b[32m━━━━━━━━━━━━━━━━━━━━\u001b[0m\u001b[37m\u001b[0m \u001b[1m164s\u001b[0m 657ms/step - accuracy: 0.1467 - loss: 2.3658 - val_accuracy: 0.1712 - val_loss: 2.3233\n",
            "Epoch 2/10\n",
            "\u001b[1m195/195\u001b[0m \u001b[32m━━━━━━━━━━━━━━━━━━━━\u001b[0m\u001b[37m\u001b[0m \u001b[1m79s\u001b[0m 407ms/step - accuracy: 0.1801 - loss: 2.3027 - val_accuracy: 0.1712 - val_loss: 2.3175\n",
            "Epoch 3/10\n",
            "\u001b[1m195/195\u001b[0m \u001b[32m━━━━━━━━━━━━━━━━━━━━\u001b[0m\u001b[37m\u001b[0m \u001b[1m80s\u001b[0m 408ms/step - accuracy: 0.1736 - loss: 2.3038 - val_accuracy: 0.1712 - val_loss: 2.3149\n",
            "Epoch 4/10\n",
            "\u001b[1m195/195\u001b[0m \u001b[32m━━━━━━━━━━━━━━━━━━━━\u001b[0m\u001b[37m\u001b[0m \u001b[1m79s\u001b[0m 407ms/step - accuracy: 0.1739 - loss: 2.3097 - val_accuracy: 0.1712 - val_loss: 2.3114\n",
            "Epoch 5/10\n",
            "\u001b[1m195/195\u001b[0m \u001b[32m━━━━━━━━━━━━━━━━━━━━\u001b[0m\u001b[37m\u001b[0m \u001b[1m79s\u001b[0m 403ms/step - accuracy: 0.1695 - loss: 2.3076 - val_accuracy: 0.1712 - val_loss: 2.3151\n",
            "Epoch 6/10\n",
            "\u001b[1m195/195\u001b[0m \u001b[32m━━━━━━━━━━━━━━━━━━━━\u001b[0m\u001b[37m\u001b[0m \u001b[1m79s\u001b[0m 407ms/step - accuracy: 0.1805 - loss: 2.2961 - val_accuracy: 0.1712 - val_loss: 2.3109\n",
            "Epoch 7/10\n",
            "\u001b[1m195/195\u001b[0m \u001b[32m━━━━━━━━━━━━━━━━━━━━\u001b[0m\u001b[37m\u001b[0m \u001b[1m79s\u001b[0m 406ms/step - accuracy: 0.1789 - loss: 2.2953 - val_accuracy: 0.1712 - val_loss: 2.3139\n",
            "Epoch 8/10\n",
            "\u001b[1m195/195\u001b[0m \u001b[32m━━━━━━━━━━━━━━━━━━━━\u001b[0m\u001b[37m\u001b[0m \u001b[1m79s\u001b[0m 406ms/step - accuracy: 0.1796 - loss: 2.2963 - val_accuracy: 0.1712 - val_loss: 2.3193\n",
            "Epoch 9/10\n",
            "\u001b[1m195/195\u001b[0m \u001b[32m━━━━━━━━━━━━━━━━━━━━\u001b[0m\u001b[37m\u001b[0m \u001b[1m79s\u001b[0m 406ms/step - accuracy: 0.1738 - loss: 2.3008 - val_accuracy: 0.1712 - val_loss: 2.3121\n",
            "Epoch 10/10\n",
            "\u001b[1m195/195\u001b[0m \u001b[32m━━━━━━━━━━━━━━━━━━━━\u001b[0m\u001b[37m\u001b[0m \u001b[1m79s\u001b[0m 406ms/step - accuracy: 0.1770 - loss: 2.2984 - val_accuracy: 0.1712 - val_loss: 2.3139\n",
            "🔧 Fine-tuning EfficientNetB0 (top layers unfrozen)...\n",
            "Epoch 1/5\n",
            "\u001b[1m195/195\u001b[0m \u001b[32m━━━━━━━━━━━━━━━━━━━━\u001b[0m\u001b[37m\u001b[0m \u001b[1m138s\u001b[0m 557ms/step - accuracy: 0.1667 - loss: 2.3057 - val_accuracy: 0.1712 - val_loss: 2.3129\n",
            "Epoch 2/5\n",
            "\u001b[1m195/195\u001b[0m \u001b[32m━━━━━━━━━━━━━━━━━━━━\u001b[0m\u001b[37m\u001b[0m \u001b[1m79s\u001b[0m 407ms/step - accuracy: 0.1723 - loss: 2.2957 - val_accuracy: 0.1712 - val_loss: 2.3123\n",
            "Epoch 3/5\n",
            "\u001b[1m195/195\u001b[0m \u001b[32m━━━━━━━━━━━━━━━━━━━━\u001b[0m\u001b[37m\u001b[0m \u001b[1m80s\u001b[0m 408ms/step - accuracy: 0.1827 - loss: 2.2968 - val_accuracy: 0.1712 - val_loss: 2.3119\n",
            "Epoch 4/5\n",
            "\u001b[1m195/195\u001b[0m \u001b[32m━━━━━━━━━━━━━━━━━━━━\u001b[0m\u001b[37m\u001b[0m \u001b[1m79s\u001b[0m 407ms/step - accuracy: 0.1769 - loss: 2.2946 - val_accuracy: 0.1712 - val_loss: 2.3107\n",
            "Epoch 5/5\n",
            "\u001b[1m195/195\u001b[0m \u001b[32m━━━━━━━━━━━━━━━━━━━━\u001b[0m\u001b[37m\u001b[0m \u001b[1m80s\u001b[0m 408ms/step - accuracy: 0.1732 - loss: 2.2984 - val_accuracy: 0.1712 - val_loss: 2.3113\n",
            "\u001b[1m100/100\u001b[0m \u001b[32m━━━━━━━━━━━━━━━━━━━━\u001b[0m\u001b[37m\u001b[0m \u001b[1m37s\u001b[0m 305ms/step\n"
          ]
        },
        {
          "name": "stderr",
          "output_type": "stream",
          "text": [
            "/usr/local/lib/python3.12/dist-packages/sklearn/metrics/_classification.py:1565: UndefinedMetricWarning: Precision is ill-defined and being set to 0.0 in labels with no predicted samples. Use `zero_division` parameter to control this behavior.\n",
            "  _warn_prf(average, modifier, f\"{metric.capitalize()} is\", len(result))\n",
            "/usr/local/lib/python3.12/dist-packages/sklearn/metrics/_classification.py:1565: UndefinedMetricWarning: Precision is ill-defined and being set to 0.0 in labels with no predicted samples. Use `zero_division` parameter to control this behavior.\n",
            "  _warn_prf(average, modifier, f\"{metric.capitalize()} is\", len(result))\n",
            "/usr/local/lib/python3.12/dist-packages/sklearn/metrics/_classification.py:1565: UndefinedMetricWarning: Precision is ill-defined and being set to 0.0 in labels with no predicted samples. Use `zero_division` parameter to control this behavior.\n",
            "  _warn_prf(average, modifier, f\"{metric.capitalize()} is\", len(result))\n",
            "WARNING:absl:You are saving your model as an HDF5 file via `model.save()` or `keras.saving.save_model(model)`. This file format is considered legacy. We recommend using instead the native Keras format, e.g. `model.save('my_model.keras')` or `keras.saving.save_model(model, 'my_model.keras')`. \n"
          ]
        },
        {
          "name": "stdout",
          "output_type": "stream",
          "text": [
            "\n",
            "📊 EfficientNetB0_FineTuned Accuracy: 16.32%\n",
            "\n",
            "Classification Report:\n",
            "                                  precision    recall  f1-score   support\n",
            "\n",
            "                     animal fish       0.16      1.00      0.28       520\n",
            "                animal fish bass       0.00      0.00      0.00        13\n",
            "   fish sea_food black_sea_sprat       0.00      0.00      0.00       298\n",
            "   fish sea_food gilt_head_bream       0.00      0.00      0.00       305\n",
            "   fish sea_food hourse_mackerel       0.00      0.00      0.00       286\n",
            "        fish sea_food red_mullet       0.00      0.00      0.00       291\n",
            "     fish sea_food red_sea_bream       0.00      0.00      0.00       273\n",
            "          fish sea_food sea_bass       0.00      0.00      0.00       327\n",
            "            fish sea_food shrimp       0.00      0.00      0.00       289\n",
            "fish sea_food striped_red_mullet       0.00      0.00      0.00       293\n",
            "             fish sea_food trout       0.00      0.00      0.00       292\n",
            "\n",
            "                        accuracy                           0.16      3187\n",
            "                       macro avg       0.01      0.09      0.03      3187\n",
            "                    weighted avg       0.03      0.16      0.05      3187\n",
            "\n",
            "Confusion Matrix:\n",
            " [[520   0   0   0   0   0   0   0   0   0   0]\n",
            " [ 13   0   0   0   0   0   0   0   0   0   0]\n",
            " [298   0   0   0   0   0   0   0   0   0   0]\n",
            " [305   0   0   0   0   0   0   0   0   0   0]\n",
            " [286   0   0   0   0   0   0   0   0   0   0]\n",
            " [291   0   0   0   0   0   0   0   0   0   0]\n",
            " [273   0   0   0   0   0   0   0   0   0   0]\n",
            " [327   0   0   0   0   0   0   0   0   0   0]\n",
            " [289   0   0   0   0   0   0   0   0   0   0]\n",
            " [293   0   0   0   0   0   0   0   0   0   0]\n",
            " [292   0   0   0   0   0   0   0   0   0   0]]\n"
          ]
        }
      ],
      "source": [
        "results = {'CNN': acc_cnn}\n",
        "histories = {}\n",
        "\n",
        "for name, model_fn in pretrained_models.items():\n",
        "    print(f\"\\n🚀 Training {name} (base model frozen)...\")\n",
        "    model = build_tl_model(model_fn)\n",
        "\n",
        "    # Stage 1: Train base model\n",
        "    history = model.fit(train_data,steps_per_epoch=len(train_data),epochs=10,validation_data=val_data,validation_steps=len(val_data))\n",
        "    histories[name] = history.history\n",
        "\n",
        "    # Fine-tune\n",
        "    print(f\"🔧 Fine-tuning {name} (top layers unfrozen)...\")\n",
        "    for layer in model.layers[-50:]:\n",
        "        if not isinstance(layer, tf.keras.layers.BatchNormalization):\n",
        "            layer.trainable = True\n",
        "\n",
        "    model.compile(optimizer=tf.keras.optimizers.Adam(learning_rate=1e-5),\n",
        "                  loss='categorical_crossentropy', metrics=['accuracy'])\n",
        "\n",
        "    fine_tune_history = model.fit(train_data, validation_data=val_data, epochs=5)\n",
        "\n",
        "    acc, cm = evaluate_and_report(model, test_data, f\"{name}_FineTuned\")\n",
        "    results[f\"{name}_FineTuned\"] = acc\n",
        "    model.save(f\"/content/{name}_FineTuned_fish_model.h5\")"
      ]
    },
    {
      "cell_type": "code",
      "execution_count": 38,
      "metadata": {
        "id": "N9GtD0VjCRtS",
        "colab": {
          "base_uri": "https://localhost:8080/"
        },
        "outputId": "d733b8a4-fc49-4c55-a97f-104553112d4c"
      },
      "outputs": [
        {
          "output_type": "stream",
          "name": "stdout",
          "text": [
            "✅ Saved model_comparison.csv\n",
            "                      Model  TestAccuracy\n",
            "1           VGG16_FineTuned      0.998117\n",
            "4     InceptionV3_FineTuned      0.996862\n",
            "3       MobileNet_FineTuned      0.987449\n",
            "0                       CNN      0.976781\n",
            "2        ResNet50_FineTuned      0.647317\n",
            "5  EfficientNetB0_FineTuned      0.163163\n"
          ]
        }
      ],
      "source": [
        "# Comparison table\n",
        "df_results = pd.DataFrame(list(results.items()), columns=['Model', 'TestAccuracy'])\n",
        "df_results = df_results.sort_values(by='TestAccuracy', ascending=False)\n",
        "df_results.to_csv('/content/model_comparison.csv', index=False)\n",
        "print(\"✅ Saved model_comparison.csv\")\n",
        "print(df_results)"
      ]
    },
    {
      "cell_type": "code",
      "source": [
        "plt.figure(figsize=(12,5))\n",
        "\n",
        "# Training Accuracy\n",
        "plt.subplot(1,2,1)\n",
        "for name, history in histories.items():\n",
        "    plt.plot(history['accuracy'], label=f'{name} Train Acc')\n",
        "plt.title(\"Training Accuracy\")\n",
        "plt.xlabel(\"Epochs\")\n",
        "plt.ylabel(\"Accuracy\")\n",
        "plt.legend()\n",
        "plt.grid(True)\n",
        "\n",
        "# Training Loss\n",
        "plt.subplot(1,2,2)\n",
        "for name, history in histories.items():\n",
        "    plt.plot(history['loss'], label=f'{name} Train Loss')\n",
        "plt.title(\"Training Loss\")\n",
        "plt.xlabel(\"Epochs\")\n",
        "plt.ylabel(\"Loss\")\n",
        "plt.legend()\n",
        "plt.grid(True)\n",
        "\n",
        "plt.suptitle(\"Training Performance Comparison (All Models)\", fontsize=14)\n",
        "plt.tight_layout()\n",
        "plt.show()"
      ],
      "metadata": {
        "colab": {
          "base_uri": "https://localhost:8080/",
          "height": 512
        },
        "id": "HzD0Ty7HuQgh",
        "outputId": "36a353e7-0a38-428b-ebe7-dcd57d3aa69a"
      },
      "execution_count": 32,
      "outputs": [
        {
          "output_type": "display_data",
          "data": {
            "text/plain": [
              "<Figure size 1200x500 with 2 Axes>"
            ],
            "image/png": "[encoded data removed]"
          },
          "metadata": {}
        }
      ]
    },
    {
      "cell_type": "code",
      "execution_count": 37,
      "metadata": {
        "colab": {
          "base_uri": "https://localhost:8080/",
          "height": 512
        },
        "id": "fVIfCjQqRr1A",
        "outputId": "b43fc29c-9fb6-4fdb-ad6c-77ab57a99699"
      },
      "outputs": [
        {
          "output_type": "display_data",
          "data": {
            "text/plain": [
              "<Figure size 1200x500 with 2 Axes>"
            ],
            "image/png": "[encoded data removed]"
          },
          "metadata": {}
        }
      ],
      "source": [
        "# --- Combined Validation Accuracy Plot ---\n",
        "plt.figure(figsize=(12,5))\n",
        "plt.subplot(1,2,1)\n",
        "for name, hist in histories.items():\n",
        "  plt.plot(hist['val_accuracy'], label=f'{name} Val Acc')\n",
        "plt.title(\"Validation Accuracy\")\n",
        "plt.xlabel(\"Epochs\")\n",
        "plt.ylabel(\"Validation Accuracy\")\n",
        "plt.legend()\n",
        "plt.grid(True)\n",
        "\n",
        "  # --- Combined Validation Loss Plot ---\n",
        "plt.subplot(1,2,2)\n",
        "for name, hist in histories.items():\n",
        "  plt.plot(hist['val_loss'], label=f'{name} Val Loss')\n",
        "plt.title(\"Validation Loss Comparison (All Models)\")\n",
        "plt.xlabel(\"Epochs\")\n",
        "plt.ylabel(\"Validation Loss\")\n",
        "plt.legend()\n",
        "plt.grid(True)\n",
        "\n",
        "plt.suptitle(\"Validation Performance Comparison (All Models)\", fontsize=14)\n",
        "plt.tight_layout()\n",
        "plt.show()\n"
      ]
    },
    {
      "cell_type": "code",
      "execution_count": 30,
      "metadata": {
        "id": "iFkrSo2PCSTe",
        "colab": {
          "base_uri": "https://localhost:8080/"
        },
        "outputId": "a3dd794e-d848-43e7-c9b6-7ce19231b972"
      },
      "outputs": [
        {
          "output_type": "stream",
          "name": "stdout",
          "text": [
            "⭐ Best Model: VGG16_FineTuned\n",
            "✅ Saved fish_best_model.h5 (ready for Streamlit)\n"
          ]
        }
      ],
      "source": [
        "best_model_name = df_results.iloc[0]['Model']\n",
        "print(f\"⭐ Best Model: {best_model_name}\")\n",
        "\n",
        "# Rename best model for deployment\n",
        "import shutil\n",
        "shutil.copyfile(f\"/content/{best_model_name}_fish_model.h5\", \"/content/fish_best_model.h5\")\n",
        "print(\"✅ Saved fish_best_model.h5 (ready for Streamlit)\")"
      ]
    },
    {
      "cell_type": "code",
      "execution_count": 29,
      "metadata": {
        "id": "JyJbzoLgCT2U",
        "colab": {
          "base_uri": "https://localhost:8080/",
          "height": 17
        },
        "outputId": "21475ce9-422d-4b9e-d950-bac2eec8eb38"
      },
      "outputs": [
        {
          "output_type": "display_data",
          "data": {
            "text/plain": [
              "<IPython.core.display.Javascript object>"
            ],
            "application/javascript": [
              "\n",
              "    async function download(id, filename, size) {\n",
              "      if (!google.colab.kernel.accessAllowed) {\n",
              "        return;\n",
              "      }\n",
              "      const div = document.createElement('div');\n",
              "      const label = document.createElement('label');\n",
              "      label.textContent = `Downloading \"${filename}\": `;\n",
              "      div.appendChild(label);\n",
              "      const progress = document.createElement('progress');\n",
              "      progress.max = size;\n",
              "      div.appendChild(progress);\n",
              "      document.body.appendChild(div);\n",
              "\n",
              "      const buffers = [];\n",
              "      let downloaded = 0;\n",
              "\n",
              "      const channel = await google.colab.kernel.comms.open(id);\n",
              "      // Send a message to notify the kernel that we're ready.\n",
              "      channel.send({})\n",
              "\n",
              "      for await (const message of channel.messages) {\n",
              "        // Send a message to notify the kernel that we're ready.\n",
              "        channel.send({})\n",
              "        if (message.buffers) {\n",
              "          for (const buffer of message.buffers) {\n",
              "            buffers.push(buffer);\n",
              "            downloaded += buffer.byteLength;\n",
              "            progress.value = downloaded;\n",
              "          }\n",
              "        }\n",
              "      }\n",
              "      const blob = new Blob(buffers, {type: 'application/binary'});\n",
              "      const a = document.createElement('a');\n",
              "      a.href = window.URL.createObjectURL(blob);\n",
              "      a.download = filename;\n",
              "      div.appendChild(a);\n",
              "      a.click();\n",
              "      div.remove();\n",
              "    }\n",
              "  "
            ]
          },
          "metadata": {}
        },
        {
          "output_type": "display_data",
          "data": {
            "text/plain": [
              "<IPython.core.display.Javascript object>"
            ],
            "application/javascript": [
              "download(\"download_6bf24527-53ec-487f-a5af-fef6421b060d\", \"fish_best_model.h5\", 179914192)"
            ]
          },
          "metadata": {}
        },
        {
          "output_type": "display_data",
          "data": {
            "text/plain": [
              "<IPython.core.display.Javascript object>"
            ],
            "application/javascript": [
              "\n",
              "    async function download(id, filename, size) {\n",
              "      if (!google.colab.kernel.accessAllowed) {\n",
              "        return;\n",
              "      }\n",
              "      const div = document.createElement('div');\n",
              "      const label = document.createElement('label');\n",
              "      label.textContent = `Downloading \"${filename}\": `;\n",
              "      div.appendChild(label);\n",
              "      const progress = document.createElement('progress');\n",
              "      progress.max = size;\n",
              "      div.appendChild(progress);\n",
              "      document.body.appendChild(div);\n",
              "\n",
              "      const buffers = [];\n",
              "      let downloaded = 0;\n",
              "\n",
              "      const channel = await google.colab.kernel.comms.open(id);\n",
              "      // Send a message to notify the kernel that we're ready.\n",
              "      channel.send({})\n",
              "\n",
              "      for await (const message of channel.messages) {\n",
              "        // Send a message to notify the kernel that we're ready.\n",
              "        channel.send({})\n",
              "        if (message.buffers) {\n",
              "          for (const buffer of message.buffers) {\n",
              "            buffers.push(buffer);\n",
              "            downloaded += buffer.byteLength;\n",
              "            progress.value = downloaded;\n",
              "          }\n",
              "        }\n",
              "      }\n",
              "      const blob = new Blob(buffers, {type: 'application/binary'});\n",
              "      const a = document.createElement('a');\n",
              "      a.href = window.URL.createObjectURL(blob);\n",
              "      a.download = filename;\n",
              "      div.appendChild(a);\n",
              "      a.click();\n",
              "      div.remove();\n",
              "    }\n",
              "  "
            ]
          },
          "metadata": {}
        },
        {
          "output_type": "display_data",
          "data": {
            "text/plain": [
              "<IPython.core.display.Javascript object>"
            ],
            "application/javascript": [
              "download(\"download_0cd756b2-5281-40cc-a73e-0d7a0efdfd9e\", \"cnn_fish_model.h5\", 267016212)"
            ]
          },
          "metadata": {}
        },
        {
          "output_type": "display_data",
          "data": {
            "text/plain": [
              "<IPython.core.display.Javascript object>"
            ],
            "application/javascript": [
              "\n",
              "    async function download(id, filename, size) {\n",
              "      if (!google.colab.kernel.accessAllowed) {\n",
              "        return;\n",
              "      }\n",
              "      const div = document.createElement('div');\n",
              "      const label = document.createElement('label');\n",
              "      label.textContent = `Downloading \"${filename}\": `;\n",
              "      div.appendChild(label);\n",
              "      const progress = document.createElement('progress');\n",
              "      progress.max = size;\n",
              "      div.appendChild(progress);\n",
              "      document.body.appendChild(div);\n",
              "\n",
              "      const buffers = [];\n",
              "      let downloaded = 0;\n",
              "\n",
              "      const channel = await google.colab.kernel.comms.open(id);\n",
              "      // Send a message to notify the kernel that we're ready.\n",
              "      channel.send({})\n",
              "\n",
              "      for await (const message of channel.messages) {\n",
              "        // Send a message to notify the kernel that we're ready.\n",
              "        channel.send({})\n",
              "        if (message.buffers) {\n",
              "          for (const buffer of message.buffers) {\n",
              "            buffers.push(buffer);\n",
              "            downloaded += buffer.byteLength;\n",
              "            progress.value = downloaded;\n",
              "          }\n",
              "        }\n",
              "      }\n",
              "      const blob = new Blob(buffers, {type: 'application/binary'});\n",
              "      const a = document.createElement('a');\n",
              "      a.href = window.URL.createObjectURL(blob);\n",
              "      a.download = filename;\n",
              "      div.appendChild(a);\n",
              "      a.click();\n",
              "      div.remove();\n",
              "    }\n",
              "  "
            ]
          },
          "metadata": {}
        },
        {
          "output_type": "display_data",
          "data": {
            "text/plain": [
              "<IPython.core.display.Javascript object>"
            ],
            "application/javascript": [
              "download(\"download_996b6656-814d-462a-b258-0bca955818c8\", \"InceptionV3_FineTuned_fish_model.h5\", 151392952)"
            ]
          },
          "metadata": {}
        },
        {
          "output_type": "display_data",
          "data": {
            "text/plain": [
              "<IPython.core.display.Javascript object>"
            ],
            "application/javascript": [
              "\n",
              "    async function download(id, filename, size) {\n",
              "      if (!google.colab.kernel.accessAllowed) {\n",
              "        return;\n",
              "      }\n",
              "      const div = document.createElement('div');\n",
              "      const label = document.createElement('label');\n",
              "      label.textContent = `Downloading \"${filename}\": `;\n",
              "      div.appendChild(label);\n",
              "      const progress = document.createElement('progress');\n",
              "      progress.max = size;\n",
              "      div.appendChild(progress);\n",
              "      document.body.appendChild(div);\n",
              "\n",
              "      const buffers = [];\n",
              "      let downloaded = 0;\n",
              "\n",
              "      const channel = await google.colab.kernel.comms.open(id);\n",
              "      // Send a message to notify the kernel that we're ready.\n",
              "      channel.send({})\n",
              "\n",
              "      for await (const message of channel.messages) {\n",
              "        // Send a message to notify the kernel that we're ready.\n",
              "        channel.send({})\n",
              "        if (message.buffers) {\n",
              "          for (const buffer of message.buffers) {\n",
              "            buffers.push(buffer);\n",
              "            downloaded += buffer.byteLength;\n",
              "            progress.value = downloaded;\n",
              "          }\n",
              "        }\n",
              "      }\n",
              "      const blob = new Blob(buffers, {type: 'application/binary'});\n",
              "      const a = document.createElement('a');\n",
              "      a.href = window.URL.createObjectURL(blob);\n",
              "      a.download = filename;\n",
              "      div.appendChild(a);\n",
              "      a.click();\n",
              "      div.remove();\n",
              "    }\n",
              "  "
            ]
          },
          "metadata": {}
        },
        {
          "output_type": "display_data",
          "data": {
            "text/plain": [
              "<IPython.core.display.Javascript object>"
            ],
            "application/javascript": [
              "download(\"download_19e1296e-a4b8-435f-8b1a-88ca6825614e\", \"MobileNet_FineTuned_fish_model.h5\", 44001160)"
            ]
          },
          "metadata": {}
        },
        {
          "output_type": "display_data",
          "data": {
            "text/plain": [
              "<IPython.core.display.Javascript object>"
            ],
            "application/javascript": [
              "\n",
              "    async function download(id, filename, size) {\n",
              "      if (!google.colab.kernel.accessAllowed) {\n",
              "        return;\n",
              "      }\n",
              "      const div = document.createElement('div');\n",
              "      const label = document.createElement('label');\n",
              "      label.textContent = `Downloading \"${filename}\": `;\n",
              "      div.appendChild(label);\n",
              "      const progress = document.createElement('progress');\n",
              "      progress.max = size;\n",
              "      div.appendChild(progress);\n",
              "      document.body.appendChild(div);\n",
              "\n",
              "      const buffers = [];\n",
              "      let downloaded = 0;\n",
              "\n",
              "      const channel = await google.colab.kernel.comms.open(id);\n",
              "      // Send a message to notify the kernel that we're ready.\n",
              "      channel.send({})\n",
              "\n",
              "      for await (const message of channel.messages) {\n",
              "        // Send a message to notify the kernel that we're ready.\n",
              "        channel.send({})\n",
              "        if (message.buffers) {\n",
              "          for (const buffer of message.buffers) {\n",
              "            buffers.push(buffer);\n",
              "            downloaded += buffer.byteLength;\n",
              "            progress.value = downloaded;\n",
              "          }\n",
              "        }\n",
              "      }\n",
              "      const blob = new Blob(buffers, {type: 'application/binary'});\n",
              "      const a = document.createElement('a');\n",
              "      a.href = window.URL.createObjectURL(blob);\n",
              "      a.download = filename;\n",
              "      div.appendChild(a);\n",
              "      a.click();\n",
              "      div.remove();\n",
              "    }\n",
              "  "
            ]
          },
          "metadata": {}
        },
        {
          "output_type": "display_data",
          "data": {
            "text/plain": [
              "<IPython.core.display.Javascript object>"
            ],
            "application/javascript": [
              "download(\"download_7385f7e1-58a7-41c4-8aa7-608bf183a32a\", \"ResNet50_FineTuned_fish_model.h5\", 238284664)"
            ]
          },
          "metadata": {}
        },
        {
          "output_type": "display_data",
          "data": {
            "text/plain": [
              "<IPython.core.display.Javascript object>"
            ],
            "application/javascript": [
              "\n",
              "    async function download(id, filename, size) {\n",
              "      if (!google.colab.kernel.accessAllowed) {\n",
              "        return;\n",
              "      }\n",
              "      const div = document.createElement('div');\n",
              "      const label = document.createElement('label');\n",
              "      label.textContent = `Downloading \"${filename}\": `;\n",
              "      div.appendChild(label);\n",
              "      const progress = document.createElement('progress');\n",
              "      progress.max = size;\n",
              "      div.appendChild(progress);\n",
              "      document.body.appendChild(div);\n",
              "\n",
              "      const buffers = [];\n",
              "      let downloaded = 0;\n",
              "\n",
              "      const channel = await google.colab.kernel.comms.open(id);\n",
              "      // Send a message to notify the kernel that we're ready.\n",
              "      channel.send({})\n",
              "\n",
              "      for await (const message of channel.messages) {\n",
              "        // Send a message to notify the kernel that we're ready.\n",
              "        channel.send({})\n",
              "        if (message.buffers) {\n",
              "          for (const buffer of message.buffers) {\n",
              "            buffers.push(buffer);\n",
              "            downloaded += buffer.byteLength;\n",
              "            progress.value = downloaded;\n",
              "          }\n",
              "        }\n",
              "      }\n",
              "      const blob = new Blob(buffers, {type: 'application/binary'});\n",
              "      const a = document.createElement('a');\n",
              "      a.href = window.URL.createObjectURL(blob);\n",
              "      a.download = filename;\n",
              "      div.appendChild(a);\n",
              "      a.click();\n",
              "      div.remove();\n",
              "    }\n",
              "  "
            ]
          },
          "metadata": {}
        },
        {
          "output_type": "display_data",
          "data": {
            "text/plain": [
              "<IPython.core.display.Javascript object>"
            ],
            "application/javascript": [
              "download(\"download_1f6eefd5-8830-4138-a2ab-eae03b5413f9\", \"VGG16_FineTuned_fish_model.h5\", 179914192)"
            ]
          },
          "metadata": {}
        },
        {
          "output_type": "display_data",
          "data": {
            "text/plain": [
              "<IPython.core.display.Javascript object>"
            ],
            "application/javascript": [
              "\n",
              "    async function download(id, filename, size) {\n",
              "      if (!google.colab.kernel.accessAllowed) {\n",
              "        return;\n",
              "      }\n",
              "      const div = document.createElement('div');\n",
              "      const label = document.createElement('label');\n",
              "      label.textContent = `Downloading \"${filename}\": `;\n",
              "      div.appendChild(label);\n",
              "      const progress = document.createElement('progress');\n",
              "      progress.max = size;\n",
              "      div.appendChild(progress);\n",
              "      document.body.appendChild(div);\n",
              "\n",
              "      const buffers = [];\n",
              "      let downloaded = 0;\n",
              "\n",
              "      const channel = await google.colab.kernel.comms.open(id);\n",
              "      // Send a message to notify the kernel that we're ready.\n",
              "      channel.send({})\n",
              "\n",
              "      for await (const message of channel.messages) {\n",
              "        // Send a message to notify the kernel that we're ready.\n",
              "        channel.send({})\n",
              "        if (message.buffers) {\n",
              "          for (const buffer of message.buffers) {\n",
              "            buffers.push(buffer);\n",
              "            downloaded += buffer.byteLength;\n",
              "            progress.value = downloaded;\n",
              "          }\n",
              "        }\n",
              "      }\n",
              "      const blob = new Blob(buffers, {type: 'application/binary'});\n",
              "      const a = document.createElement('a');\n",
              "      a.href = window.URL.createObjectURL(blob);\n",
              "      a.download = filename;\n",
              "      div.appendChild(a);\n",
              "      a.click();\n",
              "      div.remove();\n",
              "    }\n",
              "  "
            ]
          },
          "metadata": {}
        },
        {
          "output_type": "display_data",
          "data": {
            "text/plain": [
              "<IPython.core.display.Javascript object>"
            ],
            "application/javascript": [
              "download(\"download_6a67410e-b056-4d88-bc38-690c21029133\", \"EfficientNetB0_FineTuned_fish_model.h5\", 43193680)"
            ]
          },
          "metadata": {}
        },
        {
          "output_type": "display_data",
          "data": {
            "text/plain": [
              "<IPython.core.display.Javascript object>"
            ],
            "application/javascript": [
              "\n",
              "    async function download(id, filename, size) {\n",
              "      if (!google.colab.kernel.accessAllowed) {\n",
              "        return;\n",
              "      }\n",
              "      const div = document.createElement('div');\n",
              "      const label = document.createElement('label');\n",
              "      label.textContent = `Downloading \"${filename}\": `;\n",
              "      div.appendChild(label);\n",
              "      const progress = document.createElement('progress');\n",
              "      progress.max = size;\n",
              "      div.appendChild(progress);\n",
              "      document.body.appendChild(div);\n",
              "\n",
              "      const buffers = [];\n",
              "      let downloaded = 0;\n",
              "\n",
              "      const channel = await google.colab.kernel.comms.open(id);\n",
              "      // Send a message to notify the kernel that we're ready.\n",
              "      channel.send({})\n",
              "\n",
              "      for await (const message of channel.messages) {\n",
              "        // Send a message to notify the kernel that we're ready.\n",
              "        channel.send({})\n",
              "        if (message.buffers) {\n",
              "          for (const buffer of message.buffers) {\n",
              "            buffers.push(buffer);\n",
              "            downloaded += buffer.byteLength;\n",
              "            progress.value = downloaded;\n",
              "          }\n",
              "        }\n",
              "      }\n",
              "      const blob = new Blob(buffers, {type: 'application/binary'});\n",
              "      const a = document.createElement('a');\n",
              "      a.href = window.URL.createObjectURL(blob);\n",
              "      a.download = filename;\n",
              "      div.appendChild(a);\n",
              "      a.click();\n",
              "      div.remove();\n",
              "    }\n",
              "  "
            ]
          },
          "metadata": {}
        },
        {
          "output_type": "display_data",
          "data": {
            "text/plain": [
              "<IPython.core.display.Javascript object>"
            ],
            "application/javascript": [
              "download(\"download_3efd8af2-7ae9-4ec5-8350-e107c8b32e9a\", \"class_labels.json\", 302)"
            ]
          },
          "metadata": {}
        },
        {
          "output_type": "display_data",
          "data": {
            "text/plain": [
              "<IPython.core.display.Javascript object>"
            ],
            "application/javascript": [
              "\n",
              "    async function download(id, filename, size) {\n",
              "      if (!google.colab.kernel.accessAllowed) {\n",
              "        return;\n",
              "      }\n",
              "      const div = document.createElement('div');\n",
              "      const label = document.createElement('label');\n",
              "      label.textContent = `Downloading \"${filename}\": `;\n",
              "      div.appendChild(label);\n",
              "      const progress = document.createElement('progress');\n",
              "      progress.max = size;\n",
              "      div.appendChild(progress);\n",
              "      document.body.appendChild(div);\n",
              "\n",
              "      const buffers = [];\n",
              "      let downloaded = 0;\n",
              "\n",
              "      const channel = await google.colab.kernel.comms.open(id);\n",
              "      // Send a message to notify the kernel that we're ready.\n",
              "      channel.send({})\n",
              "\n",
              "      for await (const message of channel.messages) {\n",
              "        // Send a message to notify the kernel that we're ready.\n",
              "        channel.send({})\n",
              "        if (message.buffers) {\n",
              "          for (const buffer of message.buffers) {\n",
              "            buffers.push(buffer);\n",
              "            downloaded += buffer.byteLength;\n",
              "            progress.value = downloaded;\n",
              "          }\n",
              "        }\n",
              "      }\n",
              "      const blob = new Blob(buffers, {type: 'application/binary'});\n",
              "      const a = document.createElement('a');\n",
              "      a.href = window.URL.createObjectURL(blob);\n",
              "      a.download = filename;\n",
              "      div.appendChild(a);\n",
              "      a.click();\n",
              "      div.remove();\n",
              "    }\n",
              "  "
            ]
          },
          "metadata": {}
        },
        {
          "output_type": "display_data",
          "data": {
            "text/plain": [
              "<IPython.core.display.Javascript object>"
            ],
            "application/javascript": [
              "download(\"download_014407e4-468c-43e9-9683-a1ab663068d6\", \"model_comparison.csv\", 238)"
            ]
          },
          "metadata": {}
        }
      ],
      "source": [
        "from google.colab import files\n",
        "\n",
        "files.download('/content/fish_best_model.h5')\n",
        "files.download('/content/cnn_fish_model.h5')\n",
        "files.download('/content/InceptionV3_FineTuned_fish_model.h5')\n",
        "files.download('/content/MobileNet_FineTuned_fish_model.h5')\n",
        "files.download('/content/ResNet50_FineTuned_fish_model.h5')\n",
        "files.download('/content/VGG16_FineTuned_fish_model.h5')\n",
        "files.download('/content/EfficientNetB0_FineTuned_fish_model.h5')\n",
        "files.download('/content/class_labels.json')\n",
        "files.download('/content/model_comparison.csv')"
      ]
    }
  ],
  "metadata": {
    "accelerator": "GPU",
    "colab": {
      "gpuType": "A100",
      "machine_shape": "hm",
      "provenance": []
    },
    "kernelspec": {
      "display_name": "Python 3",
      "name": "python3"
    },
    "language_info": {
      "name": "python"
    }
  },
  "nbformat": 4,
  "nbformat_minor": 0
}